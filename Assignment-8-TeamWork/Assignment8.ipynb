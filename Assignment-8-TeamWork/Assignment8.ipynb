{
 "cells": [
  {
   "cell_type": "markdown",
   "metadata": {},
   "source": [
    "# Assignment 8 (10 Points): Pandas"
   ]
  },
  {
   "cell_type": "code",
   "execution_count": 1,
   "metadata": {},
   "outputs": [],
   "source": [
    "import numpy as np\n",
    "import pandas as pd\n",
    "\n",
    "%matplotlib inline\n",
    "import matplotlib.pyplot as plt"
   ]
  },
  {
   "cell_type": "code",
   "execution_count": 2,
   "metadata": {},
   "outputs": [],
   "source": [
    "flights = pd.read_csv('data/flights.csv')\n",
    "airports = pd.read_csv('data/airports.csv')"
   ]
  },
  {
   "cell_type": "markdown",
   "metadata": {},
   "source": [
    "### Q1 (3 points): Reverse engineer the following dataframe by merging the flights and airports datasets."
   ]
  },
  {
   "cell_type": "code",
   "execution_count": 3,
   "metadata": {},
   "outputs": [
    {
     "data": {
      "text/html": [
       "<div>\n",
       "<style scoped>\n",
       "    .dataframe tbody tr th:only-of-type {\n",
       "        vertical-align: middle;\n",
       "    }\n",
       "\n",
       "    .dataframe tbody tr th {\n",
       "        vertical-align: top;\n",
       "    }\n",
       "\n",
       "    .dataframe thead th {\n",
       "        text-align: right;\n",
       "    }\n",
       "</style>\n",
       "<table border=\"1\" class=\"dataframe\">\n",
       "  <thead>\n",
       "    <tr style=\"text-align: right;\">\n",
       "      <th></th>\n",
       "      <th>origin</th>\n",
       "      <th>dest</th>\n",
       "      <th>tailnum</th>\n",
       "      <th>origin_name</th>\n",
       "      <th>dest_name</th>\n",
       "    </tr>\n",
       "  </thead>\n",
       "  <tbody>\n",
       "    <tr>\n",
       "      <th>0</th>\n",
       "      <td>EWR</td>\n",
       "      <td>IAH</td>\n",
       "      <td>N14228</td>\n",
       "      <td>Newark Liberty Intl</td>\n",
       "      <td>George Bush Intercontinental</td>\n",
       "    </tr>\n",
       "    <tr>\n",
       "      <th>1</th>\n",
       "      <td>EWR</td>\n",
       "      <td>IAH</td>\n",
       "      <td>N37408</td>\n",
       "      <td>Newark Liberty Intl</td>\n",
       "      <td>George Bush Intercontinental</td>\n",
       "    </tr>\n",
       "    <tr>\n",
       "      <th>2</th>\n",
       "      <td>EWR</td>\n",
       "      <td>IAH</td>\n",
       "      <td>N12216</td>\n",
       "      <td>Newark Liberty Intl</td>\n",
       "      <td>George Bush Intercontinental</td>\n",
       "    </tr>\n",
       "    <tr>\n",
       "      <th>3</th>\n",
       "      <td>EWR</td>\n",
       "      <td>IAH</td>\n",
       "      <td>N667UA</td>\n",
       "      <td>Newark Liberty Intl</td>\n",
       "      <td>George Bush Intercontinental</td>\n",
       "    </tr>\n",
       "    <tr>\n",
       "      <th>4</th>\n",
       "      <td>EWR</td>\n",
       "      <td>IAH</td>\n",
       "      <td>N39418</td>\n",
       "      <td>Newark Liberty Intl</td>\n",
       "      <td>George Bush Intercontinental</td>\n",
       "    </tr>\n",
       "    <tr>\n",
       "      <th>...</th>\n",
       "      <td>...</td>\n",
       "      <td>...</td>\n",
       "      <td>...</td>\n",
       "      <td>...</td>\n",
       "      <td>...</td>\n",
       "    </tr>\n",
       "    <tr>\n",
       "      <th>339583</th>\n",
       "      <td>NaN</td>\n",
       "      <td>NaN</td>\n",
       "      <td>NaN</td>\n",
       "      <td>NaN</td>\n",
       "      <td>Black Rock</td>\n",
       "    </tr>\n",
       "    <tr>\n",
       "      <th>339584</th>\n",
       "      <td>NaN</td>\n",
       "      <td>NaN</td>\n",
       "      <td>NaN</td>\n",
       "      <td>NaN</td>\n",
       "      <td>New Haven Rail Station</td>\n",
       "    </tr>\n",
       "    <tr>\n",
       "      <th>339585</th>\n",
       "      <td>NaN</td>\n",
       "      <td>NaN</td>\n",
       "      <td>NaN</td>\n",
       "      <td>NaN</td>\n",
       "      <td>Wilmington Amtrak Station</td>\n",
       "    </tr>\n",
       "    <tr>\n",
       "      <th>339586</th>\n",
       "      <td>NaN</td>\n",
       "      <td>NaN</td>\n",
       "      <td>NaN</td>\n",
       "      <td>NaN</td>\n",
       "      <td>Washington Union Station</td>\n",
       "    </tr>\n",
       "    <tr>\n",
       "      <th>339587</th>\n",
       "      <td>NaN</td>\n",
       "      <td>NaN</td>\n",
       "      <td>NaN</td>\n",
       "      <td>NaN</td>\n",
       "      <td>Penn Station</td>\n",
       "    </tr>\n",
       "  </tbody>\n",
       "</table>\n",
       "<p>339588 rows × 5 columns</p>\n",
       "</div>"
      ],
      "text/plain": [
       "       origin dest tailnum          origin_name                     dest_name\n",
       "0         EWR  IAH  N14228  Newark Liberty Intl  George Bush Intercontinental\n",
       "1         EWR  IAH  N37408  Newark Liberty Intl  George Bush Intercontinental\n",
       "2         EWR  IAH  N12216  Newark Liberty Intl  George Bush Intercontinental\n",
       "3         EWR  IAH  N667UA  Newark Liberty Intl  George Bush Intercontinental\n",
       "4         EWR  IAH  N39418  Newark Liberty Intl  George Bush Intercontinental\n",
       "...       ...  ...     ...                  ...                           ...\n",
       "339583    NaN  NaN     NaN                  NaN                    Black Rock\n",
       "339584    NaN  NaN     NaN                  NaN        New Haven Rail Station\n",
       "339585    NaN  NaN     NaN                  NaN     Wilmington Amtrak Station\n",
       "339586    NaN  NaN     NaN                  NaN      Washington Union Station\n",
       "339587    NaN  NaN     NaN                  NaN                  Penn Station\n",
       "\n",
       "[339588 rows x 5 columns]"
      ]
     },
     "execution_count": 3,
     "metadata": {},
     "output_type": "execute_result"
    }
   ],
   "source": []
  },
  {
   "cell_type": "markdown",
   "metadata": {},
   "source": [
    "### Q2 (4 points): Use the resulting dataframe from Q1 to reverse engineer the following results (i.e., sorting the count of flights between the origin and destination airports)."
   ]
  },
  {
   "cell_type": "code",
   "execution_count": 4,
   "metadata": {
    "scrolled": false
   },
   "outputs": [
    {
     "data": {
      "text/html": [
       "<div>\n",
       "<style scoped>\n",
       "    .dataframe tbody tr th:only-of-type {\n",
       "        vertical-align: middle;\n",
       "    }\n",
       "\n",
       "    .dataframe tbody tr th {\n",
       "        vertical-align: top;\n",
       "    }\n",
       "\n",
       "    .dataframe thead th {\n",
       "        text-align: right;\n",
       "    }\n",
       "</style>\n",
       "<table border=\"1\" class=\"dataframe\">\n",
       "  <thead>\n",
       "    <tr style=\"text-align: right;\">\n",
       "      <th></th>\n",
       "      <th></th>\n",
       "      <th>tailnum</th>\n",
       "    </tr>\n",
       "    <tr>\n",
       "      <th>origin_name</th>\n",
       "      <th>dest_name</th>\n",
       "      <th></th>\n",
       "    </tr>\n",
       "  </thead>\n",
       "  <tbody>\n",
       "    <tr>\n",
       "      <th>John F Kennedy Intl</th>\n",
       "      <th>Los Angeles Intl</th>\n",
       "      <td>11237</td>\n",
       "    </tr>\n",
       "    <tr>\n",
       "      <th rowspan=\"2\" valign=\"top\">La Guardia</th>\n",
       "      <th>Hartsfield Jackson Atlanta Intl</th>\n",
       "      <td>10262</td>\n",
       "    </tr>\n",
       "    <tr>\n",
       "      <th>Chicago Ohare Intl</th>\n",
       "      <td>8717</td>\n",
       "    </tr>\n",
       "    <tr>\n",
       "      <th>John F Kennedy Intl</th>\n",
       "      <th>San Francisco Intl</th>\n",
       "      <td>8174</td>\n",
       "    </tr>\n",
       "    <tr>\n",
       "      <th>La Guardia</th>\n",
       "      <th>Charlotte Douglas Intl</th>\n",
       "      <td>6114</td>\n",
       "    </tr>\n",
       "    <tr>\n",
       "      <th>...</th>\n",
       "      <th>...</th>\n",
       "      <td>...</td>\n",
       "    </tr>\n",
       "    <tr>\n",
       "      <th rowspan=\"3\" valign=\"top\">John F Kennedy Intl</th>\n",
       "      <th>Memphis Intl</th>\n",
       "      <td>1</td>\n",
       "    </tr>\n",
       "    <tr>\n",
       "      <th>Lambert St Louis Intl</th>\n",
       "      <td>1</td>\n",
       "    </tr>\n",
       "    <tr>\n",
       "      <th>Birmingham Intl</th>\n",
       "      <td>1</td>\n",
       "    </tr>\n",
       "    <tr>\n",
       "      <th>La Guardia</th>\n",
       "      <th>Blue Grass</th>\n",
       "      <td>1</td>\n",
       "    </tr>\n",
       "    <tr>\n",
       "      <th>Newark Liberty Intl</th>\n",
       "      <th>La Guardia</th>\n",
       "      <td>0</td>\n",
       "    </tr>\n",
       "  </tbody>\n",
       "</table>\n",
       "<p>217 rows × 1 columns</p>\n",
       "</div>"
      ],
      "text/plain": [
       "                                                     tailnum\n",
       "origin_name         dest_name                               \n",
       "John F Kennedy Intl Los Angeles Intl                   11237\n",
       "La Guardia          Hartsfield Jackson Atlanta Intl    10262\n",
       "                    Chicago Ohare Intl                  8717\n",
       "John F Kennedy Intl San Francisco Intl                  8174\n",
       "La Guardia          Charlotte Douglas Intl              6114\n",
       "...                                                      ...\n",
       "John F Kennedy Intl Memphis Intl                           1\n",
       "                    Lambert St Louis Intl                  1\n",
       "                    Birmingham Intl                        1\n",
       "La Guardia          Blue Grass                             1\n",
       "Newark Liberty Intl La Guardia                             0\n",
       "\n",
       "[217 rows x 1 columns]"
      ]
     },
     "execution_count": 4,
     "metadata": {},
     "output_type": "execute_result"
    }
   ],
   "source": []
  },
  {
   "cell_type": "markdown",
   "metadata": {},
   "source": [
    "### Q3 (3 points): Compute and plot the rolling mean and standard deviation of the price ratio between GOOG and NASDAQ.\n",
    "\n",
    "- UCB stands for Upper Confidence Bound and is computed using mean + std.\n",
    "- LCB stands for Lower Confidence Bound and is computed using mean - std."
   ]
  },
  {
   "cell_type": "code",
   "execution_count": 5,
   "metadata": {},
   "outputs": [],
   "source": [
    "GOOG = pd.read_csv('data/GOOG.csv', index_col = 0, parse_dates = ['Date'])\n",
    "NASDAQ = pd.read_csv('data/NASDAQ.csv', index_col = 0, parse_dates = ['Date'])\n",
    "\n",
    "GOOG = GOOG['Close']\n",
    "NASDAQ = NASDAQ['Close']"
   ]
  },
  {
   "cell_type": "code",
   "execution_count": 6,
   "metadata": {},
   "outputs": [
    {
     "data": {
      "image/png": "[encoded data removed]",
      "text/plain": [
       "<Figure size 432x288 with 1 Axes>"
      ]
     },
     "metadata": {
      "needs_background": "light"
     },
     "output_type": "display_data"
    }
   ],
   "source": []
  }
 ],
 "metadata": {
  "kernelspec": {
   "display_name": "Python 3",
   "language": "python",
   "name": "python3"
  },
  "language_info": {
   "codemirror_mode": {
    "name": "ipython",
    "version": 3
   },
   "file_extension": ".py",
   "mimetype": "text/x-python",
   "name": "python",
   "nbconvert_exporter": "python",
   "pygments_lexer": "ipython3",
   "version": "3.7.6"
  }
 },
 "nbformat": 4,
 "nbformat_minor": 2
}
