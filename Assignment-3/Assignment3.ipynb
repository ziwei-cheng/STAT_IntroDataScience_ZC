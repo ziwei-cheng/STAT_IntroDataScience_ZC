{
 "cells": [
  {
   "cell_type": "markdown",
   "metadata": {},
   "source": [
    "## Assignment 3 (10 Points): Import & Tidy"
   ]
  },
  {
   "cell_type": "code",
   "execution_count": 1,
   "metadata": {},
   "outputs": [
    {
     "name": "stderr",
     "output_type": "stream",
     "text": [
      "── Attaching packages ─────────────────────────────────────── tidyverse 1.3.0 ──\n",
      "✔ ggplot2 3.2.1     ✔ purrr   0.3.3\n",
      "✔ tibble  2.1.3     ✔ dplyr   0.8.3\n",
      "✔ tidyr   1.0.0     ✔ stringr 1.4.0\n",
      "✔ readr   1.3.1     ✔ forcats 0.4.0\n",
      "── Conflicts ────────────────────────────────────────── tidyverse_conflicts() ──\n",
      "✖ dplyr::filter() masks stats::filter()\n",
      "✖ dplyr::lag()    masks stats::lag()\n"
     ]
    }
   ],
   "source": [
    "library(tidyverse)\n",
    "library(nycflights13)"
   ]
  },
  {
   "cell_type": "code",
   "execution_count": 2,
   "metadata": {
    "scrolled": false
   },
   "outputs": [
    {
     "name": "stdout",
     "output_type": "stream",
     "text": [
      "# A tibble: 336,776 x 19\n",
      "    year month   day dep_time sched_dep_time dep_delay arr_time sched_arr_time\n",
      "   <int> <int> <int>    <int>          <int>     <dbl>    <int>          <int>\n",
      " 1  2013     1     1      517            515         2      830            819\n",
      " 2  2013     1     1      533            529         4      850            830\n",
      " 3  2013     1     1      542            540         2      923            850\n",
      " 4  2013     1     1      544            545        -1     1004           1022\n",
      " 5  2013     1     1      554            600        -6      812            837\n",
      " 6  2013     1     1      554            558        -4      740            728\n",
      " 7  2013     1     1      555            600        -5      913            854\n",
      " 8  2013     1     1      557            600        -3      709            723\n",
      " 9  2013     1     1      557            600        -3      838            846\n",
      "10  2013     1     1      558            600        -2      753            745\n",
      "# … with 336,766 more rows, and 11 more variables: arr_delay <dbl>,\n",
      "#   carrier <chr>, flight <int>, tailnum <chr>, origin <chr>, dest <chr>,\n",
      "#   air_time <dbl>, distance <dbl>, hour <dbl>, minute <dbl>, time_hour <dttm>\n"
     ]
    },
    {
     "data": {
      "text/html": [
       "<table>\n",
       "<thead><tr><th scope=col>year</th><th scope=col>month</th><th scope=col>day</th><th scope=col>dep_time</th><th scope=col>sched_dep_time</th><th scope=col>dep_delay</th><th scope=col>arr_time</th><th scope=col>sched_arr_time</th><th scope=col>arr_delay</th><th scope=col>carrier</th><th scope=col>flight</th><th scope=col>tailnum</th><th scope=col>origin</th><th scope=col>dest</th><th scope=col>air_time</th><th scope=col>distance</th><th scope=col>hour</th><th scope=col>minute</th><th scope=col>time_hour</th></tr></thead>\n",
       "<tbody>\n",
       "\t<tr><td>2013               </td><td>1                  </td><td>1                  </td><td>517                </td><td>515                </td><td> 2                 </td><td> 830               </td><td> 819               </td><td> 11                </td><td>UA                 </td><td>1545               </td><td>N14228             </td><td>EWR                </td><td>IAH                </td><td>227                </td><td>1400               </td><td>5                  </td><td>15                 </td><td>2013-01-01 05:00:00</td></tr>\n",
       "\t<tr><td>2013               </td><td>1                  </td><td>1                  </td><td>533                </td><td>529                </td><td> 4                 </td><td> 850               </td><td> 830               </td><td> 20                </td><td>UA                 </td><td>1714               </td><td>N24211             </td><td>LGA                </td><td>IAH                </td><td>227                </td><td>1416               </td><td>5                  </td><td>29                 </td><td>2013-01-01 05:00:00</td></tr>\n",
       "\t<tr><td>2013               </td><td>1                  </td><td>1                  </td><td>542                </td><td>540                </td><td> 2                 </td><td> 923               </td><td> 850               </td><td> 33                </td><td>AA                 </td><td>1141               </td><td>N619AA             </td><td>JFK                </td><td>MIA                </td><td>160                </td><td>1089               </td><td>5                  </td><td>40                 </td><td>2013-01-01 05:00:00</td></tr>\n",
       "\t<tr><td>2013               </td><td>1                  </td><td>1                  </td><td>544                </td><td>545                </td><td>-1                 </td><td>1004               </td><td>1022               </td><td>-18                </td><td>B6                 </td><td> 725               </td><td>N804JB             </td><td>JFK                </td><td>BQN                </td><td>183                </td><td>1576               </td><td>5                  </td><td>45                 </td><td>2013-01-01 05:00:00</td></tr>\n",
       "\t<tr><td>2013               </td><td>1                  </td><td>1                  </td><td>554                </td><td>600                </td><td>-6                 </td><td> 812               </td><td> 837               </td><td>-25                </td><td>DL                 </td><td> 461               </td><td>N668DN             </td><td>LGA                </td><td>ATL                </td><td>116                </td><td> 762               </td><td>6                  </td><td> 0                 </td><td>2013-01-01 06:00:00</td></tr>\n",
       "</tbody>\n",
       "</table>\n"
      ],
      "text/latex": [
       "\\begin{tabular}{r|lllllllllllllllllll}\n",
       " year & month & day & dep\\_time & sched\\_dep\\_time & dep\\_delay & arr\\_time & sched\\_arr\\_time & arr\\_delay & carrier & flight & tailnum & origin & dest & air\\_time & distance & hour & minute & time\\_hour\\\\\n",
       "\\hline\n",
       "\t 2013                & 1                   & 1                   & 517                 & 515                 &  2                  &  830                &  819                &  11                 & UA                  & 1545                & N14228              & EWR                 & IAH                 & 227                 & 1400                & 5                   & 15                  & 2013-01-01 05:00:00\\\\\n",
       "\t 2013                & 1                   & 1                   & 533                 & 529                 &  4                  &  850                &  830                &  20                 & UA                  & 1714                & N24211              & LGA                 & IAH                 & 227                 & 1416                & 5                   & 29                  & 2013-01-01 05:00:00\\\\\n",
       "\t 2013                & 1                   & 1                   & 542                 & 540                 &  2                  &  923                &  850                &  33                 & AA                  & 1141                & N619AA              & JFK                 & MIA                 & 160                 & 1089                & 5                   & 40                  & 2013-01-01 05:00:00\\\\\n",
       "\t 2013                & 1                   & 1                   & 544                 & 545                 & -1                  & 1004                & 1022                & -18                 & B6                  &  725                & N804JB              & JFK                 & BQN                 & 183                 & 1576                & 5                   & 45                  & 2013-01-01 05:00:00\\\\\n",
       "\t 2013                & 1                   & 1                   & 554                 & 600                 & -6                  &  812                &  837                & -25                 & DL                  &  461                & N668DN              & LGA                 & ATL                 & 116                 &  762                & 6                   &  0                  & 2013-01-01 06:00:00\\\\\n",
       "\\end{tabular}\n"
      ],
      "text/markdown": [
       "\n",
       "| year | month | day | dep_time | sched_dep_time | dep_delay | arr_time | sched_arr_time | arr_delay | carrier | flight | tailnum | origin | dest | air_time | distance | hour | minute | time_hour |\n",
       "|---|---|---|---|---|---|---|---|---|---|---|---|---|---|---|---|---|---|---|\n",
       "| 2013                | 1                   | 1                   | 517                 | 515                 |  2                  |  830                |  819                |  11                 | UA                  | 1545                | N14228              | EWR                 | IAH                 | 227                 | 1400                | 5                   | 15                  | 2013-01-01 05:00:00 |\n",
       "| 2013                | 1                   | 1                   | 533                 | 529                 |  4                  |  850                |  830                |  20                 | UA                  | 1714                | N24211              | LGA                 | IAH                 | 227                 | 1416                | 5                   | 29                  | 2013-01-01 05:00:00 |\n",
       "| 2013                | 1                   | 1                   | 542                 | 540                 |  2                  |  923                |  850                |  33                 | AA                  | 1141                | N619AA              | JFK                 | MIA                 | 160                 | 1089                | 5                   | 40                  | 2013-01-01 05:00:00 |\n",
       "| 2013                | 1                   | 1                   | 544                 | 545                 | -1                  | 1004                | 1022                | -18                 | B6                  |  725                | N804JB              | JFK                 | BQN                 | 183                 | 1576                | 5                   | 45                  | 2013-01-01 05:00:00 |\n",
       "| 2013                | 1                   | 1                   | 554                 | 600                 | -6                  |  812                |  837                | -25                 | DL                  |  461                | N668DN              | LGA                 | ATL                 | 116                 |  762                | 6                   |  0                  | 2013-01-01 06:00:00 |\n",
       "\n"
      ],
      "text/plain": [
       "  year month day dep_time sched_dep_time dep_delay arr_time sched_arr_time\n",
       "1 2013 1     1   517      515             2         830      819          \n",
       "2 2013 1     1   533      529             4         850      830          \n",
       "3 2013 1     1   542      540             2         923      850          \n",
       "4 2013 1     1   544      545            -1        1004     1022          \n",
       "5 2013 1     1   554      600            -6         812      837          \n",
       "  arr_delay carrier flight tailnum origin dest air_time distance hour minute\n",
       "1  11       UA      1545   N14228  EWR    IAH  227      1400     5    15    \n",
       "2  20       UA      1714   N24211  LGA    IAH  227      1416     5    29    \n",
       "3  33       AA      1141   N619AA  JFK    MIA  160      1089     5    40    \n",
       "4 -18       B6       725   N804JB  JFK    BQN  183      1576     5    45    \n",
       "5 -25       DL       461   N668DN  LGA    ATL  116       762     6     0    \n",
       "  time_hour          \n",
       "1 2013-01-01 05:00:00\n",
       "2 2013-01-01 05:00:00\n",
       "3 2013-01-01 05:00:00\n",
       "4 2013-01-01 05:00:00\n",
       "5 2013-01-01 06:00:00"
      ]
     },
     "metadata": {},
     "output_type": "display_data"
    },
    {
     "data": {
      "text/html": [
       "<table>\n",
       "<thead><tr><th scope=col>year</th><th scope=col>month</th><th scope=col>day</th><th scope=col>dep_time</th><th scope=col>sched_dep_time</th><th scope=col>dep_delay</th><th scope=col>arr_time</th><th scope=col>sched_arr_time</th><th scope=col>arr_delay</th><th scope=col>carrier</th><th scope=col>flight</th><th scope=col>tailnum</th><th scope=col>origin</th><th scope=col>dest</th><th scope=col>air_time</th><th scope=col>distance</th><th scope=col>hour</th><th scope=col>minute</th><th scope=col>time_hour</th></tr></thead>\n",
       "<tbody>\n",
       "\t<tr><td>2013               </td><td>9                  </td><td>30                 </td><td>NA                 </td><td>1455               </td><td>NA                 </td><td>NA                 </td><td>1634               </td><td>NA                 </td><td>9E                 </td><td>3393               </td><td>NA                 </td><td>JFK                </td><td>DCA                </td><td>NA                 </td><td>213                </td><td>14                 </td><td>55                 </td><td>2013-09-30 14:00:00</td></tr>\n",
       "\t<tr><td>2013               </td><td>9                  </td><td>30                 </td><td>NA                 </td><td>2200               </td><td>NA                 </td><td>NA                 </td><td>2312               </td><td>NA                 </td><td>9E                 </td><td>3525               </td><td>NA                 </td><td>LGA                </td><td>SYR                </td><td>NA                 </td><td>198                </td><td>22                 </td><td> 0                 </td><td>2013-09-30 22:00:00</td></tr>\n",
       "\t<tr><td>2013               </td><td>9                  </td><td>30                 </td><td>NA                 </td><td>1210               </td><td>NA                 </td><td>NA                 </td><td>1330               </td><td>NA                 </td><td>MQ                 </td><td>3461               </td><td>N535MQ             </td><td>LGA                </td><td>BNA                </td><td>NA                 </td><td>764                </td><td>12                 </td><td>10                 </td><td>2013-09-30 12:00:00</td></tr>\n",
       "\t<tr><td>2013               </td><td>9                  </td><td>30                 </td><td>NA                 </td><td>1159               </td><td>NA                 </td><td>NA                 </td><td>1344               </td><td>NA                 </td><td>MQ                 </td><td>3572               </td><td>N511MQ             </td><td>LGA                </td><td>CLE                </td><td>NA                 </td><td>419                </td><td>11                 </td><td>59                 </td><td>2013-09-30 11:00:00</td></tr>\n",
       "\t<tr><td>2013               </td><td>9                  </td><td>30                 </td><td>NA                 </td><td> 840               </td><td>NA                 </td><td>NA                 </td><td>1020               </td><td>NA                 </td><td>MQ                 </td><td>3531               </td><td>N839MQ             </td><td>LGA                </td><td>RDU                </td><td>NA                 </td><td>431                </td><td> 8                 </td><td>40                 </td><td>2013-09-30 08:00:00</td></tr>\n",
       "</tbody>\n",
       "</table>\n"
      ],
      "text/latex": [
       "\\begin{tabular}{r|lllllllllllllllllll}\n",
       " year & month & day & dep\\_time & sched\\_dep\\_time & dep\\_delay & arr\\_time & sched\\_arr\\_time & arr\\_delay & carrier & flight & tailnum & origin & dest & air\\_time & distance & hour & minute & time\\_hour\\\\\n",
       "\\hline\n",
       "\t 2013                & 9                   & 30                  & NA                  & 1455                & NA                  & NA                  & 1634                & NA                  & 9E                  & 3393                & NA                  & JFK                 & DCA                 & NA                  & 213                 & 14                  & 55                  & 2013-09-30 14:00:00\\\\\n",
       "\t 2013                & 9                   & 30                  & NA                  & 2200                & NA                  & NA                  & 2312                & NA                  & 9E                  & 3525                & NA                  & LGA                 & SYR                 & NA                  & 198                 & 22                  &  0                  & 2013-09-30 22:00:00\\\\\n",
       "\t 2013                & 9                   & 30                  & NA                  & 1210                & NA                  & NA                  & 1330                & NA                  & MQ                  & 3461                & N535MQ              & LGA                 & BNA                 & NA                  & 764                 & 12                  & 10                  & 2013-09-30 12:00:00\\\\\n",
       "\t 2013                & 9                   & 30                  & NA                  & 1159                & NA                  & NA                  & 1344                & NA                  & MQ                  & 3572                & N511MQ              & LGA                 & CLE                 & NA                  & 419                 & 11                  & 59                  & 2013-09-30 11:00:00\\\\\n",
       "\t 2013                & 9                   & 30                  & NA                  &  840                & NA                  & NA                  & 1020                & NA                  & MQ                  & 3531                & N839MQ              & LGA                 & RDU                 & NA                  & 431                 &  8                  & 40                  & 2013-09-30 08:00:00\\\\\n",
       "\\end{tabular}\n"
      ],
      "text/markdown": [
       "\n",
       "| year | month | day | dep_time | sched_dep_time | dep_delay | arr_time | sched_arr_time | arr_delay | carrier | flight | tailnum | origin | dest | air_time | distance | hour | minute | time_hour |\n",
       "|---|---|---|---|---|---|---|---|---|---|---|---|---|---|---|---|---|---|---|\n",
       "| 2013                | 9                   | 30                  | NA                  | 1455                | NA                  | NA                  | 1634                | NA                  | 9E                  | 3393                | NA                  | JFK                 | DCA                 | NA                  | 213                 | 14                  | 55                  | 2013-09-30 14:00:00 |\n",
       "| 2013                | 9                   | 30                  | NA                  | 2200                | NA                  | NA                  | 2312                | NA                  | 9E                  | 3525                | NA                  | LGA                 | SYR                 | NA                  | 198                 | 22                  |  0                  | 2013-09-30 22:00:00 |\n",
       "| 2013                | 9                   | 30                  | NA                  | 1210                | NA                  | NA                  | 1330                | NA                  | MQ                  | 3461                | N535MQ              | LGA                 | BNA                 | NA                  | 764                 | 12                  | 10                  | 2013-09-30 12:00:00 |\n",
       "| 2013                | 9                   | 30                  | NA                  | 1159                | NA                  | NA                  | 1344                | NA                  | MQ                  | 3572                | N511MQ              | LGA                 | CLE                 | NA                  | 419                 | 11                  | 59                  | 2013-09-30 11:00:00 |\n",
       "| 2013                | 9                   | 30                  | NA                  |  840                | NA                  | NA                  | 1020                | NA                  | MQ                  | 3531                | N839MQ              | LGA                 | RDU                 | NA                  | 431                 |  8                  | 40                  | 2013-09-30 08:00:00 |\n",
       "\n"
      ],
      "text/plain": [
       "  year month day dep_time sched_dep_time dep_delay arr_time sched_arr_time\n",
       "1 2013 9     30  NA       1455           NA        NA       1634          \n",
       "2 2013 9     30  NA       2200           NA        NA       2312          \n",
       "3 2013 9     30  NA       1210           NA        NA       1330          \n",
       "4 2013 9     30  NA       1159           NA        NA       1344          \n",
       "5 2013 9     30  NA        840           NA        NA       1020          \n",
       "  arr_delay carrier flight tailnum origin dest air_time distance hour minute\n",
       "1 NA        9E      3393   NA      JFK    DCA  NA       213      14   55    \n",
       "2 NA        9E      3525   NA      LGA    SYR  NA       198      22    0    \n",
       "3 NA        MQ      3461   N535MQ  LGA    BNA  NA       764      12   10    \n",
       "4 NA        MQ      3572   N511MQ  LGA    CLE  NA       419      11   59    \n",
       "5 NA        MQ      3531   N839MQ  LGA    RDU  NA       431       8   40    \n",
       "  time_hour          \n",
       "1 2013-09-30 14:00:00\n",
       "2 2013-09-30 22:00:00\n",
       "3 2013-09-30 12:00:00\n",
       "4 2013-09-30 11:00:00\n",
       "5 2013-09-30 08:00:00"
      ]
     },
     "metadata": {},
     "output_type": "display_data"
    },
    {
     "data": {
      "text/html": [
       "<table>\n",
       "<thead><tr><th scope=col>year</th><th scope=col>month</th><th scope=col>day</th><th scope=col>dep_time</th><th scope=col>sched_dep_time</th><th scope=col>dep_delay</th><th scope=col>arr_time</th><th scope=col>sched_arr_time</th><th scope=col>arr_delay</th><th scope=col>carrier</th><th scope=col>flight</th><th scope=col>tailnum</th><th scope=col>origin</th><th scope=col>dest</th><th scope=col>air_time</th><th scope=col>distance</th><th scope=col>hour</th><th scope=col>minute</th><th scope=col>time_hour</th></tr></thead>\n",
       "<tbody>\n",
       "\t<tr><td>2013               </td><td>5                  </td><td>21                 </td><td> 553               </td><td> 600               </td><td>-7                 </td><td> 648               </td><td> 701               </td><td>-13                </td><td>US                 </td><td>2114               </td><td>N733UW             </td><td>LGA                </td><td>BOS                </td><td> 32                </td><td> 184               </td><td> 6                 </td><td> 0                 </td><td>2013-05-21 06:00:00</td></tr>\n",
       "\t<tr><td>2013               </td><td>6                  </td><td>10                 </td><td> 804               </td><td> 805               </td><td>-1                 </td><td>1056               </td><td>1055               </td><td>  1                </td><td>DL                 </td><td>1109               </td><td>N376NW             </td><td>LGA                </td><td>TPA                </td><td>139                </td><td>1010               </td><td> 8                 </td><td> 5                 </td><td>2013-06-10 08:00:00</td></tr>\n",
       "\t<tr><td>2013               </td><td>3                  </td><td>20                 </td><td> 655               </td><td> 656               </td><td>-1                 </td><td> 915               </td><td> 924               </td><td> -9                </td><td>B6                 </td><td> 117               </td><td>N768JB             </td><td>JFK                </td><td>MSY                </td><td>183                </td><td>1182               </td><td> 6                 </td><td>56                 </td><td>2013-03-20 06:00:00</td></tr>\n",
       "\t<tr><td>2013               </td><td>3                  </td><td>24                 </td><td>2027               </td><td>1918               </td><td>69                 </td><td>2325               </td><td>2216               </td><td> 69                </td><td>UA                 </td><td>1159               </td><td>N73278             </td><td>EWR                </td><td>PBI                </td><td>153                </td><td>1023               </td><td>19                 </td><td>18                 </td><td>2013-03-24 19:00:00</td></tr>\n",
       "\t<tr><td>2013               </td><td>9                  </td><td>13                 </td><td> 759               </td><td> 800               </td><td>-1                 </td><td> 902               </td><td> 904               </td><td> -2                </td><td>B6                 </td><td>1491               </td><td>N247JB             </td><td>JFK                </td><td>ACK                </td><td> 44                </td><td> 199               </td><td> 8                 </td><td> 0                 </td><td>2013-09-13 08:00:00</td></tr>\n",
       "</tbody>\n",
       "</table>\n"
      ],
      "text/latex": [
       "\\begin{tabular}{r|lllllllllllllllllll}\n",
       " year & month & day & dep\\_time & sched\\_dep\\_time & dep\\_delay & arr\\_time & sched\\_arr\\_time & arr\\_delay & carrier & flight & tailnum & origin & dest & air\\_time & distance & hour & minute & time\\_hour\\\\\n",
       "\\hline\n",
       "\t 2013                & 5                   & 21                  &  553                &  600                & -7                  &  648                &  701                & -13                 & US                  & 2114                & N733UW              & LGA                 & BOS                 &  32                 &  184                &  6                  &  0                  & 2013-05-21 06:00:00\\\\\n",
       "\t 2013                & 6                   & 10                  &  804                &  805                & -1                  & 1056                & 1055                &   1                 & DL                  & 1109                & N376NW              & LGA                 & TPA                 & 139                 & 1010                &  8                  &  5                  & 2013-06-10 08:00:00\\\\\n",
       "\t 2013                & 3                   & 20                  &  655                &  656                & -1                  &  915                &  924                &  -9                 & B6                  &  117                & N768JB              & JFK                 & MSY                 & 183                 & 1182                &  6                  & 56                  & 2013-03-20 06:00:00\\\\\n",
       "\t 2013                & 3                   & 24                  & 2027                & 1918                & 69                  & 2325                & 2216                &  69                 & UA                  & 1159                & N73278              & EWR                 & PBI                 & 153                 & 1023                & 19                  & 18                  & 2013-03-24 19:00:00\\\\\n",
       "\t 2013                & 9                   & 13                  &  759                &  800                & -1                  &  902                &  904                &  -2                 & B6                  & 1491                & N247JB              & JFK                 & ACK                 &  44                 &  199                &  8                  &  0                  & 2013-09-13 08:00:00\\\\\n",
       "\\end{tabular}\n"
      ],
      "text/markdown": [
       "\n",
       "| year | month | day | dep_time | sched_dep_time | dep_delay | arr_time | sched_arr_time | arr_delay | carrier | flight | tailnum | origin | dest | air_time | distance | hour | minute | time_hour |\n",
       "|---|---|---|---|---|---|---|---|---|---|---|---|---|---|---|---|---|---|---|\n",
       "| 2013                | 5                   | 21                  |  553                |  600                | -7                  |  648                |  701                | -13                 | US                  | 2114                | N733UW              | LGA                 | BOS                 |  32                 |  184                |  6                  |  0                  | 2013-05-21 06:00:00 |\n",
       "| 2013                | 6                   | 10                  |  804                |  805                | -1                  | 1056                | 1055                |   1                 | DL                  | 1109                | N376NW              | LGA                 | TPA                 | 139                 | 1010                |  8                  |  5                  | 2013-06-10 08:00:00 |\n",
       "| 2013                | 3                   | 20                  |  655                |  656                | -1                  |  915                |  924                |  -9                 | B6                  |  117                | N768JB              | JFK                 | MSY                 | 183                 | 1182                |  6                  | 56                  | 2013-03-20 06:00:00 |\n",
       "| 2013                | 3                   | 24                  | 2027                | 1918                | 69                  | 2325                | 2216                |  69                 | UA                  | 1159                | N73278              | EWR                 | PBI                 | 153                 | 1023                | 19                  | 18                  | 2013-03-24 19:00:00 |\n",
       "| 2013                | 9                   | 13                  |  759                |  800                | -1                  |  902                |  904                |  -2                 | B6                  | 1491                | N247JB              | JFK                 | ACK                 |  44                 |  199                |  8                  |  0                  | 2013-09-13 08:00:00 |\n",
       "\n"
      ],
      "text/plain": [
       "  year month day dep_time sched_dep_time dep_delay arr_time sched_arr_time\n",
       "1 2013 5     21   553      600           -7         648      701          \n",
       "2 2013 6     10   804      805           -1        1056     1055          \n",
       "3 2013 3     20   655      656           -1         915      924          \n",
       "4 2013 3     24  2027     1918           69        2325     2216          \n",
       "5 2013 9     13   759      800           -1         902      904          \n",
       "  arr_delay carrier flight tailnum origin dest air_time distance hour minute\n",
       "1 -13       US      2114   N733UW  LGA    BOS   32       184      6    0    \n",
       "2   1       DL      1109   N376NW  LGA    TPA  139      1010      8    5    \n",
       "3  -9       B6       117   N768JB  JFK    MSY  183      1182      6   56    \n",
       "4  69       UA      1159   N73278  EWR    PBI  153      1023     19   18    \n",
       "5  -2       B6      1491   N247JB  JFK    ACK   44       199      8    0    \n",
       "  time_hour          \n",
       "1 2013-05-21 06:00:00\n",
       "2 2013-06-10 08:00:00\n",
       "3 2013-03-20 06:00:00\n",
       "4 2013-03-24 19:00:00\n",
       "5 2013-09-13 08:00:00"
      ]
     },
     "metadata": {},
     "output_type": "display_data"
    }
   ],
   "source": [
    "print(flights)\n",
    "head(flights, 5)\n",
    "tail(flights, 5)\n",
    "sample_n(flights, 5)"
   ]
  },
  {
   "cell_type": "markdown",
   "metadata": {},
   "source": [
    "### Q1 (4 points): Make the flights data messy and write the result into a csv file named \"flights_messy.csv\"."
   ]
  },
  {
   "cell_type": "code",
   "execution_count": 3,
   "metadata": {},
   "outputs": [],
   "source": []
  },
  {
   "cell_type": "code",
   "execution_count": 4,
   "metadata": {
    "scrolled": false
   },
   "outputs": [
    {
     "name": "stdout",
     "output_type": "stream",
     "text": [
      "# A tibble: 336,776 x 17\n",
      "   date  dep_time sched_dep_time dep_delay arr_time sched_arr_time arr_delay\n",
      "   <chr>    <int>          <int>     <dbl>    <int>          <int>     <dbl>\n",
      " 1 2013…      517            515         2      830            819        11\n",
      " 2 2013…      533            529         4      850            830        20\n",
      " 3 2013…      542            540         2      923            850        33\n",
      " 4 2013…      544            545        -1     1004           1022       -18\n",
      " 5 2013…      554            600        -6      812            837       -25\n",
      " 6 2013…      554            558        -4      740            728        12\n",
      " 7 2013…      555            600        -5      913            854        19\n",
      " 8 2013…      557            600        -3      709            723       -14\n",
      " 9 2013…      557            600        -3      838            846        -8\n",
      "10 2013…      558            600        -2      753            745         8\n",
      "# … with 336,766 more rows, and 10 more variables: carrier_flight <chr>,\n",
      "#   tailnum <chr>, air_time <dbl>, distance <dbl>, hour <dbl>, minute <dbl>,\n",
      "#   time_hour <dttm>, EWR <chr>, LGA <chr>, JFK <chr>\n"
     ]
    },
    {
     "data": {
      "text/html": [
       "<table>\n",
       "<thead><tr><th scope=col>date</th><th scope=col>dep_time</th><th scope=col>sched_dep_time</th><th scope=col>dep_delay</th><th scope=col>arr_time</th><th scope=col>sched_arr_time</th><th scope=col>arr_delay</th><th scope=col>carrier_flight</th><th scope=col>tailnum</th><th scope=col>air_time</th><th scope=col>distance</th><th scope=col>hour</th><th scope=col>minute</th><th scope=col>time_hour</th><th scope=col>EWR</th><th scope=col>LGA</th><th scope=col>JFK</th></tr></thead>\n",
       "<tbody>\n",
       "\t<tr><td>2013/1/1           </td><td>517                </td><td>515                </td><td> 2                 </td><td> 830               </td><td> 819               </td><td> 11                </td><td>UA_1545            </td><td>N14228             </td><td>227                </td><td>1400               </td><td>5                  </td><td>15                 </td><td>2013-01-01 05:00:00</td><td>IAH                </td><td>NA                 </td><td>NA                 </td></tr>\n",
       "\t<tr><td>2013/1/1           </td><td>533                </td><td>529                </td><td> 4                 </td><td> 850               </td><td> 830               </td><td> 20                </td><td>UA_1714            </td><td>N24211             </td><td>227                </td><td>1416               </td><td>5                  </td><td>29                 </td><td>2013-01-01 05:00:00</td><td>NA                 </td><td>IAH                </td><td>NA                 </td></tr>\n",
       "\t<tr><td>2013/1/1           </td><td>542                </td><td>540                </td><td> 2                 </td><td> 923               </td><td> 850               </td><td> 33                </td><td>AA_1141            </td><td>N619AA             </td><td>160                </td><td>1089               </td><td>5                  </td><td>40                 </td><td>2013-01-01 05:00:00</td><td>NA                 </td><td>NA                 </td><td>MIA                </td></tr>\n",
       "\t<tr><td>2013/1/1           </td><td>544                </td><td>545                </td><td>-1                 </td><td>1004               </td><td>1022               </td><td>-18                </td><td>B6_725             </td><td>N804JB             </td><td>183                </td><td>1576               </td><td>5                  </td><td>45                 </td><td>2013-01-01 05:00:00</td><td>NA                 </td><td>NA                 </td><td>BQN                </td></tr>\n",
       "\t<tr><td>2013/1/1           </td><td>554                </td><td>600                </td><td>-6                 </td><td> 812               </td><td> 837               </td><td>-25                </td><td>DL_461             </td><td>N668DN             </td><td>116                </td><td> 762               </td><td>6                  </td><td> 0                 </td><td>2013-01-01 06:00:00</td><td>NA                 </td><td>ATL                </td><td>NA                 </td></tr>\n",
       "</tbody>\n",
       "</table>\n"
      ],
      "text/latex": [
       "\\begin{tabular}{r|lllllllllllllllll}\n",
       " date & dep\\_time & sched\\_dep\\_time & dep\\_delay & arr\\_time & sched\\_arr\\_time & arr\\_delay & carrier\\_flight & tailnum & air\\_time & distance & hour & minute & time\\_hour & EWR & LGA & JFK\\\\\n",
       "\\hline\n",
       "\t 2013/1/1            & 517                 & 515                 &  2                  &  830                &  819                &  11                 & UA\\_1545           & N14228              & 227                 & 1400                & 5                   & 15                  & 2013-01-01 05:00:00 & IAH                 & NA                  & NA                 \\\\\n",
       "\t 2013/1/1            & 533                 & 529                 &  4                  &  850                &  830                &  20                 & UA\\_1714           & N24211              & 227                 & 1416                & 5                   & 29                  & 2013-01-01 05:00:00 & NA                  & IAH                 & NA                 \\\\\n",
       "\t 2013/1/1            & 542                 & 540                 &  2                  &  923                &  850                &  33                 & AA\\_1141           & N619AA              & 160                 & 1089                & 5                   & 40                  & 2013-01-01 05:00:00 & NA                  & NA                  & MIA                \\\\\n",
       "\t 2013/1/1            & 544                 & 545                 & -1                  & 1004                & 1022                & -18                 & B6\\_725            & N804JB              & 183                 & 1576                & 5                   & 45                  & 2013-01-01 05:00:00 & NA                  & NA                  & BQN                \\\\\n",
       "\t 2013/1/1            & 554                 & 600                 & -6                  &  812                &  837                & -25                 & DL\\_461            & N668DN              & 116                 &  762                & 6                   &  0                  & 2013-01-01 06:00:00 & NA                  & ATL                 & NA                 \\\\\n",
       "\\end{tabular}\n"
      ],
      "text/markdown": [
       "\n",
       "| date | dep_time | sched_dep_time | dep_delay | arr_time | sched_arr_time | arr_delay | carrier_flight | tailnum | air_time | distance | hour | minute | time_hour | EWR | LGA | JFK |\n",
       "|---|---|---|---|---|---|---|---|---|---|---|---|---|---|---|---|---|\n",
       "| 2013/1/1            | 517                 | 515                 |  2                  |  830                |  819                |  11                 | UA_1545             | N14228              | 227                 | 1400                | 5                   | 15                  | 2013-01-01 05:00:00 | IAH                 | NA                  | NA                  |\n",
       "| 2013/1/1            | 533                 | 529                 |  4                  |  850                |  830                |  20                 | UA_1714             | N24211              | 227                 | 1416                | 5                   | 29                  | 2013-01-01 05:00:00 | NA                  | IAH                 | NA                  |\n",
       "| 2013/1/1            | 542                 | 540                 |  2                  |  923                |  850                |  33                 | AA_1141             | N619AA              | 160                 | 1089                | 5                   | 40                  | 2013-01-01 05:00:00 | NA                  | NA                  | MIA                 |\n",
       "| 2013/1/1            | 544                 | 545                 | -1                  | 1004                | 1022                | -18                 | B6_725              | N804JB              | 183                 | 1576                | 5                   | 45                  | 2013-01-01 05:00:00 | NA                  | NA                  | BQN                 |\n",
       "| 2013/1/1            | 554                 | 600                 | -6                  |  812                |  837                | -25                 | DL_461              | N668DN              | 116                 |  762                | 6                   |  0                  | 2013-01-01 06:00:00 | NA                  | ATL                 | NA                  |\n",
       "\n"
      ],
      "text/plain": [
       "  date     dep_time sched_dep_time dep_delay arr_time sched_arr_time arr_delay\n",
       "1 2013/1/1 517      515             2         830      819            11      \n",
       "2 2013/1/1 533      529             4         850      830            20      \n",
       "3 2013/1/1 542      540             2         923      850            33      \n",
       "4 2013/1/1 544      545            -1        1004     1022           -18      \n",
       "5 2013/1/1 554      600            -6         812      837           -25      \n",
       "  carrier_flight tailnum air_time distance hour minute time_hour           EWR\n",
       "1 UA_1545        N14228  227      1400     5    15     2013-01-01 05:00:00 IAH\n",
       "2 UA_1714        N24211  227      1416     5    29     2013-01-01 05:00:00 NA \n",
       "3 AA_1141        N619AA  160      1089     5    40     2013-01-01 05:00:00 NA \n",
       "4 B6_725         N804JB  183      1576     5    45     2013-01-01 05:00:00 NA \n",
       "5 DL_461         N668DN  116       762     6     0     2013-01-01 06:00:00 NA \n",
       "  LGA JFK\n",
       "1 NA  NA \n",
       "2 IAH NA \n",
       "3 NA  MIA\n",
       "4 NA  BQN\n",
       "5 ATL NA "
      ]
     },
     "metadata": {},
     "output_type": "display_data"
    },
    {
     "data": {
      "text/html": [
       "<table>\n",
       "<thead><tr><th scope=col>date</th><th scope=col>dep_time</th><th scope=col>sched_dep_time</th><th scope=col>dep_delay</th><th scope=col>arr_time</th><th scope=col>sched_arr_time</th><th scope=col>arr_delay</th><th scope=col>carrier_flight</th><th scope=col>tailnum</th><th scope=col>air_time</th><th scope=col>distance</th><th scope=col>hour</th><th scope=col>minute</th><th scope=col>time_hour</th><th scope=col>EWR</th><th scope=col>LGA</th><th scope=col>JFK</th></tr></thead>\n",
       "<tbody>\n",
       "\t<tr><td>2013/9/30          </td><td>NA                 </td><td>1455               </td><td>NA                 </td><td>NA                 </td><td>1634               </td><td>NA                 </td><td>9E_3393            </td><td>NA                 </td><td>NA                 </td><td>213                </td><td>14                 </td><td>55                 </td><td>2013-09-30 14:00:00</td><td>NA                 </td><td>NA                 </td><td>DCA                </td></tr>\n",
       "\t<tr><td>2013/9/30          </td><td>NA                 </td><td>2200               </td><td>NA                 </td><td>NA                 </td><td>2312               </td><td>NA                 </td><td>9E_3525            </td><td>NA                 </td><td>NA                 </td><td>198                </td><td>22                 </td><td> 0                 </td><td>2013-09-30 22:00:00</td><td>NA                 </td><td>SYR                </td><td>NA                 </td></tr>\n",
       "\t<tr><td>2013/9/30          </td><td>NA                 </td><td>1210               </td><td>NA                 </td><td>NA                 </td><td>1330               </td><td>NA                 </td><td>MQ_3461            </td><td>N535MQ             </td><td>NA                 </td><td>764                </td><td>12                 </td><td>10                 </td><td>2013-09-30 12:00:00</td><td>NA                 </td><td>BNA                </td><td>NA                 </td></tr>\n",
       "\t<tr><td>2013/9/30          </td><td>NA                 </td><td>1159               </td><td>NA                 </td><td>NA                 </td><td>1344               </td><td>NA                 </td><td>MQ_3572            </td><td>N511MQ             </td><td>NA                 </td><td>419                </td><td>11                 </td><td>59                 </td><td>2013-09-30 11:00:00</td><td>NA                 </td><td>CLE                </td><td>NA                 </td></tr>\n",
       "\t<tr><td>2013/9/30          </td><td>NA                 </td><td> 840               </td><td>NA                 </td><td>NA                 </td><td>1020               </td><td>NA                 </td><td>MQ_3531            </td><td>N839MQ             </td><td>NA                 </td><td>431                </td><td> 8                 </td><td>40                 </td><td>2013-09-30 08:00:00</td><td>NA                 </td><td>RDU                </td><td>NA                 </td></tr>\n",
       "</tbody>\n",
       "</table>\n"
      ],
      "text/latex": [
       "\\begin{tabular}{r|lllllllllllllllll}\n",
       " date & dep\\_time & sched\\_dep\\_time & dep\\_delay & arr\\_time & sched\\_arr\\_time & arr\\_delay & carrier\\_flight & tailnum & air\\_time & distance & hour & minute & time\\_hour & EWR & LGA & JFK\\\\\n",
       "\\hline\n",
       "\t 2013/9/30           & NA                  & 1455                & NA                  & NA                  & 1634                & NA                  & 9E\\_3393           & NA                  & NA                  & 213                 & 14                  & 55                  & 2013-09-30 14:00:00 & NA                  & NA                  & DCA                \\\\\n",
       "\t 2013/9/30           & NA                  & 2200                & NA                  & NA                  & 2312                & NA                  & 9E\\_3525           & NA                  & NA                  & 198                 & 22                  &  0                  & 2013-09-30 22:00:00 & NA                  & SYR                 & NA                 \\\\\n",
       "\t 2013/9/30           & NA                  & 1210                & NA                  & NA                  & 1330                & NA                  & MQ\\_3461           & N535MQ              & NA                  & 764                 & 12                  & 10                  & 2013-09-30 12:00:00 & NA                  & BNA                 & NA                 \\\\\n",
       "\t 2013/9/30           & NA                  & 1159                & NA                  & NA                  & 1344                & NA                  & MQ\\_3572           & N511MQ              & NA                  & 419                 & 11                  & 59                  & 2013-09-30 11:00:00 & NA                  & CLE                 & NA                 \\\\\n",
       "\t 2013/9/30           & NA                  &  840                & NA                  & NA                  & 1020                & NA                  & MQ\\_3531           & N839MQ              & NA                  & 431                 &  8                  & 40                  & 2013-09-30 08:00:00 & NA                  & RDU                 & NA                 \\\\\n",
       "\\end{tabular}\n"
      ],
      "text/markdown": [
       "\n",
       "| date | dep_time | sched_dep_time | dep_delay | arr_time | sched_arr_time | arr_delay | carrier_flight | tailnum | air_time | distance | hour | minute | time_hour | EWR | LGA | JFK |\n",
       "|---|---|---|---|---|---|---|---|---|---|---|---|---|---|---|---|---|\n",
       "| 2013/9/30           | NA                  | 1455                | NA                  | NA                  | 1634                | NA                  | 9E_3393             | NA                  | NA                  | 213                 | 14                  | 55                  | 2013-09-30 14:00:00 | NA                  | NA                  | DCA                 |\n",
       "| 2013/9/30           | NA                  | 2200                | NA                  | NA                  | 2312                | NA                  | 9E_3525             | NA                  | NA                  | 198                 | 22                  |  0                  | 2013-09-30 22:00:00 | NA                  | SYR                 | NA                  |\n",
       "| 2013/9/30           | NA                  | 1210                | NA                  | NA                  | 1330                | NA                  | MQ_3461             | N535MQ              | NA                  | 764                 | 12                  | 10                  | 2013-09-30 12:00:00 | NA                  | BNA                 | NA                  |\n",
       "| 2013/9/30           | NA                  | 1159                | NA                  | NA                  | 1344                | NA                  | MQ_3572             | N511MQ              | NA                  | 419                 | 11                  | 59                  | 2013-09-30 11:00:00 | NA                  | CLE                 | NA                  |\n",
       "| 2013/9/30           | NA                  |  840                | NA                  | NA                  | 1020                | NA                  | MQ_3531             | N839MQ              | NA                  | 431                 |  8                  | 40                  | 2013-09-30 08:00:00 | NA                  | RDU                 | NA                  |\n",
       "\n"
      ],
      "text/plain": [
       "  date      dep_time sched_dep_time dep_delay arr_time sched_arr_time arr_delay\n",
       "1 2013/9/30 NA       1455           NA        NA       1634           NA       \n",
       "2 2013/9/30 NA       2200           NA        NA       2312           NA       \n",
       "3 2013/9/30 NA       1210           NA        NA       1330           NA       \n",
       "4 2013/9/30 NA       1159           NA        NA       1344           NA       \n",
       "5 2013/9/30 NA        840           NA        NA       1020           NA       \n",
       "  carrier_flight tailnum air_time distance hour minute time_hour           EWR\n",
       "1 9E_3393        NA      NA       213      14   55     2013-09-30 14:00:00 NA \n",
       "2 9E_3525        NA      NA       198      22    0     2013-09-30 22:00:00 NA \n",
       "3 MQ_3461        N535MQ  NA       764      12   10     2013-09-30 12:00:00 NA \n",
       "4 MQ_3572        N511MQ  NA       419      11   59     2013-09-30 11:00:00 NA \n",
       "5 MQ_3531        N839MQ  NA       431       8   40     2013-09-30 08:00:00 NA \n",
       "  LGA JFK\n",
       "1 NA  DCA\n",
       "2 SYR NA \n",
       "3 BNA NA \n",
       "4 CLE NA \n",
       "5 RDU NA "
      ]
     },
     "metadata": {},
     "output_type": "display_data"
    },
    {
     "data": {
      "text/html": [
       "<table>\n",
       "<thead><tr><th scope=col>date</th><th scope=col>dep_time</th><th scope=col>sched_dep_time</th><th scope=col>dep_delay</th><th scope=col>arr_time</th><th scope=col>sched_arr_time</th><th scope=col>arr_delay</th><th scope=col>carrier_flight</th><th scope=col>tailnum</th><th scope=col>air_time</th><th scope=col>distance</th><th scope=col>hour</th><th scope=col>minute</th><th scope=col>time_hour</th><th scope=col>EWR</th><th scope=col>LGA</th><th scope=col>JFK</th></tr></thead>\n",
       "<tbody>\n",
       "\t<tr><td>2013/1/22          </td><td>2006               </td><td>2015               </td><td>-9                 </td><td>2113               </td><td>2130               </td><td>-17                </td><td>AA_1762            </td><td>N3DUAA             </td><td>39                 </td><td>187                </td><td>20                 </td><td>15                 </td><td>2013-01-22 20:00:00</td><td>NA                 </td><td>NA                 </td><td>BOS                </td></tr>\n",
       "\t<tr><td>2013/4/18          </td><td>2016               </td><td>2000               </td><td>16                 </td><td>2144               </td><td>2119               </td><td> 25                </td><td>US_2189            </td><td>N744P              </td><td>46                 </td><td>214                </td><td>20                 </td><td> 0                 </td><td>2013-04-18 20:00:00</td><td>NA                 </td><td>DCA                </td><td>NA                 </td></tr>\n",
       "\t<tr><td>2013/12/9          </td><td>1237               </td><td>1210               </td><td>27                 </td><td>1342               </td><td>1324               </td><td> 18                </td><td>9E_2902            </td><td>N914XJ             </td><td>32                 </td><td>187                </td><td>12                 </td><td>10                 </td><td>2013-12-09 12:00:00</td><td>NA                 </td><td>NA                 </td><td>BOS                </td></tr>\n",
       "\t<tr><td>2013/5/21          </td><td> 855               </td><td> 900               </td><td>-5                 </td><td>1025               </td><td>1019               </td><td>  6                </td><td>US_2120            </td><td>N955UW             </td><td>38                 </td><td>184                </td><td> 9                 </td><td> 0                 </td><td>2013-05-21 09:00:00</td><td>NA                 </td><td>BOS                </td><td>NA                 </td></tr>\n",
       "\t<tr><td>2013/6/18          </td><td>  NA               </td><td> 940               </td><td>NA                 </td><td>  NA               </td><td>1051               </td><td> NA                </td><td>9E_3608            </td><td>NA                 </td><td>NA                 </td><td> 94                </td><td> 9                 </td><td>40                 </td><td>2013-06-18 09:00:00</td><td>NA                 </td><td>NA                 </td><td>PHL                </td></tr>\n",
       "</tbody>\n",
       "</table>\n"
      ],
      "text/latex": [
       "\\begin{tabular}{r|lllllllllllllllll}\n",
       " date & dep\\_time & sched\\_dep\\_time & dep\\_delay & arr\\_time & sched\\_arr\\_time & arr\\_delay & carrier\\_flight & tailnum & air\\_time & distance & hour & minute & time\\_hour & EWR & LGA & JFK\\\\\n",
       "\\hline\n",
       "\t 2013/1/22           & 2006                & 2015                & -9                  & 2113                & 2130                & -17                 & AA\\_1762           & N3DUAA              & 39                  & 187                 & 20                  & 15                  & 2013-01-22 20:00:00 & NA                  & NA                  & BOS                \\\\\n",
       "\t 2013/4/18           & 2016                & 2000                & 16                  & 2144                & 2119                &  25                 & US\\_2189           & N744P               & 46                  & 214                 & 20                  &  0                  & 2013-04-18 20:00:00 & NA                  & DCA                 & NA                 \\\\\n",
       "\t 2013/12/9           & 1237                & 1210                & 27                  & 1342                & 1324                &  18                 & 9E\\_2902           & N914XJ              & 32                  & 187                 & 12                  & 10                  & 2013-12-09 12:00:00 & NA                  & NA                  & BOS                \\\\\n",
       "\t 2013/5/21           &  855                &  900                & -5                  & 1025                & 1019                &   6                 & US\\_2120           & N955UW              & 38                  & 184                 &  9                  &  0                  & 2013-05-21 09:00:00 & NA                  & BOS                 & NA                 \\\\\n",
       "\t 2013/6/18           &   NA                &  940                & NA                  &   NA                & 1051                &  NA                 & 9E\\_3608           & NA                  & NA                  &  94                 &  9                  & 40                  & 2013-06-18 09:00:00 & NA                  & NA                  & PHL                \\\\\n",
       "\\end{tabular}\n"
      ],
      "text/markdown": [
       "\n",
       "| date | dep_time | sched_dep_time | dep_delay | arr_time | sched_arr_time | arr_delay | carrier_flight | tailnum | air_time | distance | hour | minute | time_hour | EWR | LGA | JFK |\n",
       "|---|---|---|---|---|---|---|---|---|---|---|---|---|---|---|---|---|\n",
       "| 2013/1/22           | 2006                | 2015                | -9                  | 2113                | 2130                | -17                 | AA_1762             | N3DUAA              | 39                  | 187                 | 20                  | 15                  | 2013-01-22 20:00:00 | NA                  | NA                  | BOS                 |\n",
       "| 2013/4/18           | 2016                | 2000                | 16                  | 2144                | 2119                |  25                 | US_2189             | N744P               | 46                  | 214                 | 20                  |  0                  | 2013-04-18 20:00:00 | NA                  | DCA                 | NA                  |\n",
       "| 2013/12/9           | 1237                | 1210                | 27                  | 1342                | 1324                |  18                 | 9E_2902             | N914XJ              | 32                  | 187                 | 12                  | 10                  | 2013-12-09 12:00:00 | NA                  | NA                  | BOS                 |\n",
       "| 2013/5/21           |  855                |  900                | -5                  | 1025                | 1019                |   6                 | US_2120             | N955UW              | 38                  | 184                 |  9                  |  0                  | 2013-05-21 09:00:00 | NA                  | BOS                 | NA                  |\n",
       "| 2013/6/18           |   NA                |  940                | NA                  |   NA                | 1051                |  NA                 | 9E_3608             | NA                  | NA                  |  94                 |  9                  | 40                  | 2013-06-18 09:00:00 | NA                  | NA                  | PHL                 |\n",
       "\n"
      ],
      "text/plain": [
       "  date      dep_time sched_dep_time dep_delay arr_time sched_arr_time arr_delay\n",
       "1 2013/1/22 2006     2015           -9        2113     2130           -17      \n",
       "2 2013/4/18 2016     2000           16        2144     2119            25      \n",
       "3 2013/12/9 1237     1210           27        1342     1324            18      \n",
       "4 2013/5/21  855      900           -5        1025     1019             6      \n",
       "5 2013/6/18   NA      940           NA          NA     1051            NA      \n",
       "  carrier_flight tailnum air_time distance hour minute time_hour           EWR\n",
       "1 AA_1762        N3DUAA  39       187      20   15     2013-01-22 20:00:00 NA \n",
       "2 US_2189        N744P   46       214      20    0     2013-04-18 20:00:00 NA \n",
       "3 9E_2902        N914XJ  32       187      12   10     2013-12-09 12:00:00 NA \n",
       "4 US_2120        N955UW  38       184       9    0     2013-05-21 09:00:00 NA \n",
       "5 9E_3608        NA      NA        94       9   40     2013-06-18 09:00:00 NA \n",
       "  LGA JFK\n",
       "1 NA  BOS\n",
       "2 DCA NA \n",
       "3 NA  BOS\n",
       "4 BOS NA \n",
       "5 NA  PHL"
      ]
     },
     "metadata": {},
     "output_type": "display_data"
    }
   ],
   "source": [
    "print(flights_messy)\n",
    "head(flights_messy, 5)\n",
    "tail(flights_messy, 5)\n",
    "sample_n(flights_messy, 5)"
   ]
  },
  {
   "cell_type": "markdown",
   "metadata": {},
   "source": [
    "### Q2 (6 points): Read \"flights_messy.csv\" and make the data tidy."
   ]
  },
  {
   "cell_type": "code",
   "execution_count": 5,
   "metadata": {},
   "outputs": [],
   "source": []
  },
  {
   "cell_type": "code",
   "execution_count": 6,
   "metadata": {},
   "outputs": [
    {
     "name": "stdout",
     "output_type": "stream",
     "text": [
      "# A tibble: 336,776 x 19\n",
      "    year month   day dep_time sched_dep_time dep_delay arr_time sched_arr_time\n",
      "   <int> <int> <int>    <int>          <int>     <dbl>    <int>          <int>\n",
      " 1  2013     1     1      517            515         2      830            819\n",
      " 2  2013     1     1      533            529         4      850            830\n",
      " 3  2013     1     1      542            540         2      923            850\n",
      " 4  2013     1     1      544            545        -1     1004           1022\n",
      " 5  2013     1     1      554            600        -6      812            837\n",
      " 6  2013     1     1      554            558        -4      740            728\n",
      " 7  2013     1     1      555            600        -5      913            854\n",
      " 8  2013     1     1      557            600        -3      709            723\n",
      " 9  2013     1     1      557            600        -3      838            846\n",
      "10  2013     1     1      558            600        -2      753            745\n",
      "# … with 336,766 more rows, and 11 more variables: arr_delay <dbl>,\n",
      "#   carrier <chr>, flight <int>, tailnum <chr>, air_time <dbl>, distance <dbl>,\n",
      "#   hour <dbl>, minute <dbl>, time_hour <dttm>, origin <chr>, dest <chr>\n"
     ]
    },
    {
     "data": {
      "text/html": [
       "<table>\n",
       "<thead><tr><th scope=col>year</th><th scope=col>month</th><th scope=col>day</th><th scope=col>dep_time</th><th scope=col>sched_dep_time</th><th scope=col>dep_delay</th><th scope=col>arr_time</th><th scope=col>sched_arr_time</th><th scope=col>arr_delay</th><th scope=col>carrier</th><th scope=col>flight</th><th scope=col>tailnum</th><th scope=col>air_time</th><th scope=col>distance</th><th scope=col>hour</th><th scope=col>minute</th><th scope=col>time_hour</th><th scope=col>origin</th><th scope=col>dest</th></tr></thead>\n",
       "<tbody>\n",
       "\t<tr><td>2013               </td><td>1                  </td><td>1                  </td><td>517                </td><td>515                </td><td> 2                 </td><td> 830               </td><td> 819               </td><td> 11                </td><td>UA                 </td><td>1545               </td><td>N14228             </td><td>227                </td><td>1400               </td><td>5                  </td><td>15                 </td><td>2013-01-01 10:00:00</td><td>EWR                </td><td>IAH                </td></tr>\n",
       "\t<tr><td>2013               </td><td>1                  </td><td>1                  </td><td>533                </td><td>529                </td><td> 4                 </td><td> 850               </td><td> 830               </td><td> 20                </td><td>UA                 </td><td>1714               </td><td>N24211             </td><td>227                </td><td>1416               </td><td>5                  </td><td>29                 </td><td>2013-01-01 10:00:00</td><td>LGA                </td><td>IAH                </td></tr>\n",
       "\t<tr><td>2013               </td><td>1                  </td><td>1                  </td><td>542                </td><td>540                </td><td> 2                 </td><td> 923               </td><td> 850               </td><td> 33                </td><td>AA                 </td><td>1141               </td><td>N619AA             </td><td>160                </td><td>1089               </td><td>5                  </td><td>40                 </td><td>2013-01-01 10:00:00</td><td>JFK                </td><td>MIA                </td></tr>\n",
       "\t<tr><td>2013               </td><td>1                  </td><td>1                  </td><td>544                </td><td>545                </td><td>-1                 </td><td>1004               </td><td>1022               </td><td>-18                </td><td>B6                 </td><td> 725               </td><td>N804JB             </td><td>183                </td><td>1576               </td><td>5                  </td><td>45                 </td><td>2013-01-01 10:00:00</td><td>JFK                </td><td>BQN                </td></tr>\n",
       "\t<tr><td>2013               </td><td>1                  </td><td>1                  </td><td>554                </td><td>600                </td><td>-6                 </td><td> 812               </td><td> 837               </td><td>-25                </td><td>DL                 </td><td> 461               </td><td>N668DN             </td><td>116                </td><td> 762               </td><td>6                  </td><td> 0                 </td><td>2013-01-01 11:00:00</td><td>LGA                </td><td>ATL                </td></tr>\n",
       "</tbody>\n",
       "</table>\n"
      ],
      "text/latex": [
       "\\begin{tabular}{r|lllllllllllllllllll}\n",
       " year & month & day & dep\\_time & sched\\_dep\\_time & dep\\_delay & arr\\_time & sched\\_arr\\_time & arr\\_delay & carrier & flight & tailnum & air\\_time & distance & hour & minute & time\\_hour & origin & dest\\\\\n",
       "\\hline\n",
       "\t 2013                & 1                   & 1                   & 517                 & 515                 &  2                  &  830                &  819                &  11                 & UA                  & 1545                & N14228              & 227                 & 1400                & 5                   & 15                  & 2013-01-01 10:00:00 & EWR                 & IAH                \\\\\n",
       "\t 2013                & 1                   & 1                   & 533                 & 529                 &  4                  &  850                &  830                &  20                 & UA                  & 1714                & N24211              & 227                 & 1416                & 5                   & 29                  & 2013-01-01 10:00:00 & LGA                 & IAH                \\\\\n",
       "\t 2013                & 1                   & 1                   & 542                 & 540                 &  2                  &  923                &  850                &  33                 & AA                  & 1141                & N619AA              & 160                 & 1089                & 5                   & 40                  & 2013-01-01 10:00:00 & JFK                 & MIA                \\\\\n",
       "\t 2013                & 1                   & 1                   & 544                 & 545                 & -1                  & 1004                & 1022                & -18                 & B6                  &  725                & N804JB              & 183                 & 1576                & 5                   & 45                  & 2013-01-01 10:00:00 & JFK                 & BQN                \\\\\n",
       "\t 2013                & 1                   & 1                   & 554                 & 600                 & -6                  &  812                &  837                & -25                 & DL                  &  461                & N668DN              & 116                 &  762                & 6                   &  0                  & 2013-01-01 11:00:00 & LGA                 & ATL                \\\\\n",
       "\\end{tabular}\n"
      ],
      "text/markdown": [
       "\n",
       "| year | month | day | dep_time | sched_dep_time | dep_delay | arr_time | sched_arr_time | arr_delay | carrier | flight | tailnum | air_time | distance | hour | minute | time_hour | origin | dest |\n",
       "|---|---|---|---|---|---|---|---|---|---|---|---|---|---|---|---|---|---|---|\n",
       "| 2013                | 1                   | 1                   | 517                 | 515                 |  2                  |  830                |  819                |  11                 | UA                  | 1545                | N14228              | 227                 | 1400                | 5                   | 15                  | 2013-01-01 10:00:00 | EWR                 | IAH                 |\n",
       "| 2013                | 1                   | 1                   | 533                 | 529                 |  4                  |  850                |  830                |  20                 | UA                  | 1714                | N24211              | 227                 | 1416                | 5                   | 29                  | 2013-01-01 10:00:00 | LGA                 | IAH                 |\n",
       "| 2013                | 1                   | 1                   | 542                 | 540                 |  2                  |  923                |  850                |  33                 | AA                  | 1141                | N619AA              | 160                 | 1089                | 5                   | 40                  | 2013-01-01 10:00:00 | JFK                 | MIA                 |\n",
       "| 2013                | 1                   | 1                   | 544                 | 545                 | -1                  | 1004                | 1022                | -18                 | B6                  |  725                | N804JB              | 183                 | 1576                | 5                   | 45                  | 2013-01-01 10:00:00 | JFK                 | BQN                 |\n",
       "| 2013                | 1                   | 1                   | 554                 | 600                 | -6                  |  812                |  837                | -25                 | DL                  |  461                | N668DN              | 116                 |  762                | 6                   |  0                  | 2013-01-01 11:00:00 | LGA                 | ATL                 |\n",
       "\n"
      ],
      "text/plain": [
       "  year month day dep_time sched_dep_time dep_delay arr_time sched_arr_time\n",
       "1 2013 1     1   517      515             2         830      819          \n",
       "2 2013 1     1   533      529             4         850      830          \n",
       "3 2013 1     1   542      540             2         923      850          \n",
       "4 2013 1     1   544      545            -1        1004     1022          \n",
       "5 2013 1     1   554      600            -6         812      837          \n",
       "  arr_delay carrier flight tailnum air_time distance hour minute\n",
       "1  11       UA      1545   N14228  227      1400     5    15    \n",
       "2  20       UA      1714   N24211  227      1416     5    29    \n",
       "3  33       AA      1141   N619AA  160      1089     5    40    \n",
       "4 -18       B6       725   N804JB  183      1576     5    45    \n",
       "5 -25       DL       461   N668DN  116       762     6     0    \n",
       "  time_hour           origin dest\n",
       "1 2013-01-01 10:00:00 EWR    IAH \n",
       "2 2013-01-01 10:00:00 LGA    IAH \n",
       "3 2013-01-01 10:00:00 JFK    MIA \n",
       "4 2013-01-01 10:00:00 JFK    BQN \n",
       "5 2013-01-01 11:00:00 LGA    ATL "
      ]
     },
     "metadata": {},
     "output_type": "display_data"
    },
    {
     "data": {
      "text/html": [
       "<table>\n",
       "<thead><tr><th scope=col>year</th><th scope=col>month</th><th scope=col>day</th><th scope=col>dep_time</th><th scope=col>sched_dep_time</th><th scope=col>dep_delay</th><th scope=col>arr_time</th><th scope=col>sched_arr_time</th><th scope=col>arr_delay</th><th scope=col>carrier</th><th scope=col>flight</th><th scope=col>tailnum</th><th scope=col>air_time</th><th scope=col>distance</th><th scope=col>hour</th><th scope=col>minute</th><th scope=col>time_hour</th><th scope=col>origin</th><th scope=col>dest</th></tr></thead>\n",
       "<tbody>\n",
       "\t<tr><td>2013               </td><td>9                  </td><td>30                 </td><td>NA                 </td><td>1455               </td><td>NA                 </td><td>NA                 </td><td>1634               </td><td>NA                 </td><td>9E                 </td><td>3393               </td><td>NA                 </td><td>NA                 </td><td>213                </td><td>14                 </td><td>55                 </td><td>2013-09-30 18:00:00</td><td>JFK                </td><td>DCA                </td></tr>\n",
       "\t<tr><td>2013               </td><td>9                  </td><td>30                 </td><td>NA                 </td><td>2200               </td><td>NA                 </td><td>NA                 </td><td>2312               </td><td>NA                 </td><td>9E                 </td><td>3525               </td><td>NA                 </td><td>NA                 </td><td>198                </td><td>22                 </td><td> 0                 </td><td>2013-10-01 02:00:00</td><td>LGA                </td><td>SYR                </td></tr>\n",
       "\t<tr><td>2013               </td><td>9                  </td><td>30                 </td><td>NA                 </td><td>1210               </td><td>NA                 </td><td>NA                 </td><td>1330               </td><td>NA                 </td><td>MQ                 </td><td>3461               </td><td>N535MQ             </td><td>NA                 </td><td>764                </td><td>12                 </td><td>10                 </td><td>2013-09-30 16:00:00</td><td>LGA                </td><td>BNA                </td></tr>\n",
       "\t<tr><td>2013               </td><td>9                  </td><td>30                 </td><td>NA                 </td><td>1159               </td><td>NA                 </td><td>NA                 </td><td>1344               </td><td>NA                 </td><td>MQ                 </td><td>3572               </td><td>N511MQ             </td><td>NA                 </td><td>419                </td><td>11                 </td><td>59                 </td><td>2013-09-30 15:00:00</td><td>LGA                </td><td>CLE                </td></tr>\n",
       "\t<tr><td>2013               </td><td>9                  </td><td>30                 </td><td>NA                 </td><td> 840               </td><td>NA                 </td><td>NA                 </td><td>1020               </td><td>NA                 </td><td>MQ                 </td><td>3531               </td><td>N839MQ             </td><td>NA                 </td><td>431                </td><td> 8                 </td><td>40                 </td><td>2013-09-30 12:00:00</td><td>LGA                </td><td>RDU                </td></tr>\n",
       "</tbody>\n",
       "</table>\n"
      ],
      "text/latex": [
       "\\begin{tabular}{r|lllllllllllllllllll}\n",
       " year & month & day & dep\\_time & sched\\_dep\\_time & dep\\_delay & arr\\_time & sched\\_arr\\_time & arr\\_delay & carrier & flight & tailnum & air\\_time & distance & hour & minute & time\\_hour & origin & dest\\\\\n",
       "\\hline\n",
       "\t 2013                & 9                   & 30                  & NA                  & 1455                & NA                  & NA                  & 1634                & NA                  & 9E                  & 3393                & NA                  & NA                  & 213                 & 14                  & 55                  & 2013-09-30 18:00:00 & JFK                 & DCA                \\\\\n",
       "\t 2013                & 9                   & 30                  & NA                  & 2200                & NA                  & NA                  & 2312                & NA                  & 9E                  & 3525                & NA                  & NA                  & 198                 & 22                  &  0                  & 2013-10-01 02:00:00 & LGA                 & SYR                \\\\\n",
       "\t 2013                & 9                   & 30                  & NA                  & 1210                & NA                  & NA                  & 1330                & NA                  & MQ                  & 3461                & N535MQ              & NA                  & 764                 & 12                  & 10                  & 2013-09-30 16:00:00 & LGA                 & BNA                \\\\\n",
       "\t 2013                & 9                   & 30                  & NA                  & 1159                & NA                  & NA                  & 1344                & NA                  & MQ                  & 3572                & N511MQ              & NA                  & 419                 & 11                  & 59                  & 2013-09-30 15:00:00 & LGA                 & CLE                \\\\\n",
       "\t 2013                & 9                   & 30                  & NA                  &  840                & NA                  & NA                  & 1020                & NA                  & MQ                  & 3531                & N839MQ              & NA                  & 431                 &  8                  & 40                  & 2013-09-30 12:00:00 & LGA                 & RDU                \\\\\n",
       "\\end{tabular}\n"
      ],
      "text/markdown": [
       "\n",
       "| year | month | day | dep_time | sched_dep_time | dep_delay | arr_time | sched_arr_time | arr_delay | carrier | flight | tailnum | air_time | distance | hour | minute | time_hour | origin | dest |\n",
       "|---|---|---|---|---|---|---|---|---|---|---|---|---|---|---|---|---|---|---|\n",
       "| 2013                | 9                   | 30                  | NA                  | 1455                | NA                  | NA                  | 1634                | NA                  | 9E                  | 3393                | NA                  | NA                  | 213                 | 14                  | 55                  | 2013-09-30 18:00:00 | JFK                 | DCA                 |\n",
       "| 2013                | 9                   | 30                  | NA                  | 2200                | NA                  | NA                  | 2312                | NA                  | 9E                  | 3525                | NA                  | NA                  | 198                 | 22                  |  0                  | 2013-10-01 02:00:00 | LGA                 | SYR                 |\n",
       "| 2013                | 9                   | 30                  | NA                  | 1210                | NA                  | NA                  | 1330                | NA                  | MQ                  | 3461                | N535MQ              | NA                  | 764                 | 12                  | 10                  | 2013-09-30 16:00:00 | LGA                 | BNA                 |\n",
       "| 2013                | 9                   | 30                  | NA                  | 1159                | NA                  | NA                  | 1344                | NA                  | MQ                  | 3572                | N511MQ              | NA                  | 419                 | 11                  | 59                  | 2013-09-30 15:00:00 | LGA                 | CLE                 |\n",
       "| 2013                | 9                   | 30                  | NA                  |  840                | NA                  | NA                  | 1020                | NA                  | MQ                  | 3531                | N839MQ              | NA                  | 431                 |  8                  | 40                  | 2013-09-30 12:00:00 | LGA                 | RDU                 |\n",
       "\n"
      ],
      "text/plain": [
       "  year month day dep_time sched_dep_time dep_delay arr_time sched_arr_time\n",
       "1 2013 9     30  NA       1455           NA        NA       1634          \n",
       "2 2013 9     30  NA       2200           NA        NA       2312          \n",
       "3 2013 9     30  NA       1210           NA        NA       1330          \n",
       "4 2013 9     30  NA       1159           NA        NA       1344          \n",
       "5 2013 9     30  NA        840           NA        NA       1020          \n",
       "  arr_delay carrier flight tailnum air_time distance hour minute\n",
       "1 NA        9E      3393   NA      NA       213      14   55    \n",
       "2 NA        9E      3525   NA      NA       198      22    0    \n",
       "3 NA        MQ      3461   N535MQ  NA       764      12   10    \n",
       "4 NA        MQ      3572   N511MQ  NA       419      11   59    \n",
       "5 NA        MQ      3531   N839MQ  NA       431       8   40    \n",
       "  time_hour           origin dest\n",
       "1 2013-09-30 18:00:00 JFK    DCA \n",
       "2 2013-10-01 02:00:00 LGA    SYR \n",
       "3 2013-09-30 16:00:00 LGA    BNA \n",
       "4 2013-09-30 15:00:00 LGA    CLE \n",
       "5 2013-09-30 12:00:00 LGA    RDU "
      ]
     },
     "metadata": {},
     "output_type": "display_data"
    },
    {
     "data": {
      "text/html": [
       "<table>\n",
       "<thead><tr><th scope=col>year</th><th scope=col>month</th><th scope=col>day</th><th scope=col>dep_time</th><th scope=col>sched_dep_time</th><th scope=col>dep_delay</th><th scope=col>arr_time</th><th scope=col>sched_arr_time</th><th scope=col>arr_delay</th><th scope=col>carrier</th><th scope=col>flight</th><th scope=col>tailnum</th><th scope=col>air_time</th><th scope=col>distance</th><th scope=col>hour</th><th scope=col>minute</th><th scope=col>time_hour</th><th scope=col>origin</th><th scope=col>dest</th></tr></thead>\n",
       "<tbody>\n",
       "\t<tr><td>2013               </td><td>10                 </td><td>15                 </td><td> 604               </td><td> 610               </td><td> -6                </td><td> 755               </td><td> 813               </td><td>-18                </td><td>DL                 </td><td>1919               </td><td>N918DE             </td><td>150                </td><td>1020               </td><td> 6                 </td><td>10                 </td><td>2013-10-15 10:00:00</td><td>LGA                </td><td>MSP                </td></tr>\n",
       "\t<tr><td>2013               </td><td>10                 </td><td> 4                 </td><td>1915               </td><td>1919               </td><td> -4                </td><td>2151               </td><td>2215               </td><td>-24                </td><td>DL                 </td><td>2159               </td><td>N958DL             </td><td>126                </td><td> 944               </td><td>19                 </td><td>19                 </td><td>2013-10-04 23:00:00</td><td>JFK                </td><td>MCO                </td></tr>\n",
       "\t<tr><td>2013               </td><td> 1                 </td><td>20                 </td><td> 829               </td><td> 830               </td><td> -1                </td><td>1329               </td><td>1335               </td><td> -6                </td><td>DL                 </td><td> 301               </td><td>N636DL             </td><td>203                </td><td>1598               </td><td> 8                 </td><td>30                 </td><td>2013-01-20 13:00:00</td><td>JFK                </td><td>SJU                </td></tr>\n",
       "\t<tr><td>2013               </td><td>12                 </td><td>20                 </td><td>1140               </td><td>1150               </td><td>-10                </td><td>1332               </td><td>1406               </td><td>-34                </td><td>YV                 </td><td>2885               </td><td>N923FJ             </td><td> 88                </td><td> 544               </td><td>11                 </td><td>50                 </td><td>2013-12-20 16:00:00</td><td>LGA                </td><td>CLT                </td></tr>\n",
       "\t<tr><td>2013               </td><td> 3                 </td><td> 3                 </td><td>1121               </td><td>1100               </td><td> 21                </td><td>1250               </td><td>1300               </td><td>-10                </td><td>WN                 </td><td> 366               </td><td>N758SW             </td><td>121                </td><td> 888               </td><td>11                 </td><td> 0                 </td><td>2013-03-03 16:00:00</td><td>LGA                </td><td>STL                </td></tr>\n",
       "</tbody>\n",
       "</table>\n"
      ],
      "text/latex": [
       "\\begin{tabular}{r|lllllllllllllllllll}\n",
       " year & month & day & dep\\_time & sched\\_dep\\_time & dep\\_delay & arr\\_time & sched\\_arr\\_time & arr\\_delay & carrier & flight & tailnum & air\\_time & distance & hour & minute & time\\_hour & origin & dest\\\\\n",
       "\\hline\n",
       "\t 2013                & 10                  & 15                  &  604                &  610                &  -6                 &  755                &  813                & -18                 & DL                  & 1919                & N918DE              & 150                 & 1020                &  6                  & 10                  & 2013-10-15 10:00:00 & LGA                 & MSP                \\\\\n",
       "\t 2013                & 10                  &  4                  & 1915                & 1919                &  -4                 & 2151                & 2215                & -24                 & DL                  & 2159                & N958DL              & 126                 &  944                & 19                  & 19                  & 2013-10-04 23:00:00 & JFK                 & MCO                \\\\\n",
       "\t 2013                &  1                  & 20                  &  829                &  830                &  -1                 & 1329                & 1335                &  -6                 & DL                  &  301                & N636DL              & 203                 & 1598                &  8                  & 30                  & 2013-01-20 13:00:00 & JFK                 & SJU                \\\\\n",
       "\t 2013                & 12                  & 20                  & 1140                & 1150                & -10                 & 1332                & 1406                & -34                 & YV                  & 2885                & N923FJ              &  88                 &  544                & 11                  & 50                  & 2013-12-20 16:00:00 & LGA                 & CLT                \\\\\n",
       "\t 2013                &  3                  &  3                  & 1121                & 1100                &  21                 & 1250                & 1300                & -10                 & WN                  &  366                & N758SW              & 121                 &  888                & 11                  &  0                  & 2013-03-03 16:00:00 & LGA                 & STL                \\\\\n",
       "\\end{tabular}\n"
      ],
      "text/markdown": [
       "\n",
       "| year | month | day | dep_time | sched_dep_time | dep_delay | arr_time | sched_arr_time | arr_delay | carrier | flight | tailnum | air_time | distance | hour | minute | time_hour | origin | dest |\n",
       "|---|---|---|---|---|---|---|---|---|---|---|---|---|---|---|---|---|---|---|\n",
       "| 2013                | 10                  | 15                  |  604                |  610                |  -6                 |  755                |  813                | -18                 | DL                  | 1919                | N918DE              | 150                 | 1020                |  6                  | 10                  | 2013-10-15 10:00:00 | LGA                 | MSP                 |\n",
       "| 2013                | 10                  |  4                  | 1915                | 1919                |  -4                 | 2151                | 2215                | -24                 | DL                  | 2159                | N958DL              | 126                 |  944                | 19                  | 19                  | 2013-10-04 23:00:00 | JFK                 | MCO                 |\n",
       "| 2013                |  1                  | 20                  |  829                |  830                |  -1                 | 1329                | 1335                |  -6                 | DL                  |  301                | N636DL              | 203                 | 1598                |  8                  | 30                  | 2013-01-20 13:00:00 | JFK                 | SJU                 |\n",
       "| 2013                | 12                  | 20                  | 1140                | 1150                | -10                 | 1332                | 1406                | -34                 | YV                  | 2885                | N923FJ              |  88                 |  544                | 11                  | 50                  | 2013-12-20 16:00:00 | LGA                 | CLT                 |\n",
       "| 2013                |  3                  |  3                  | 1121                | 1100                |  21                 | 1250                | 1300                | -10                 | WN                  |  366                | N758SW              | 121                 |  888                | 11                  |  0                  | 2013-03-03 16:00:00 | LGA                 | STL                 |\n",
       "\n"
      ],
      "text/plain": [
       "  year month day dep_time sched_dep_time dep_delay arr_time sched_arr_time\n",
       "1 2013 10    15   604      610            -6        755      813          \n",
       "2 2013 10     4  1915     1919            -4       2151     2215          \n",
       "3 2013  1    20   829      830            -1       1329     1335          \n",
       "4 2013 12    20  1140     1150           -10       1332     1406          \n",
       "5 2013  3     3  1121     1100            21       1250     1300          \n",
       "  arr_delay carrier flight tailnum air_time distance hour minute\n",
       "1 -18       DL      1919   N918DE  150      1020      6   10    \n",
       "2 -24       DL      2159   N958DL  126       944     19   19    \n",
       "3  -6       DL       301   N636DL  203      1598      8   30    \n",
       "4 -34       YV      2885   N923FJ   88       544     11   50    \n",
       "5 -10       WN       366   N758SW  121       888     11    0    \n",
       "  time_hour           origin dest\n",
       "1 2013-10-15 10:00:00 LGA    MSP \n",
       "2 2013-10-04 23:00:00 JFK    MCO \n",
       "3 2013-01-20 13:00:00 JFK    SJU \n",
       "4 2013-12-20 16:00:00 LGA    CLT \n",
       "5 2013-03-03 16:00:00 LGA    STL "
      ]
     },
     "metadata": {},
     "output_type": "display_data"
    }
   ],
   "source": [
    "print(flights_tidy)\n",
    "head(flights_tidy, 5)\n",
    "tail(flights_tidy, 5)\n",
    "sample_n(flights_tidy, 5)"
   ]
  }
 ],
 "metadata": {
  "kernelspec": {
   "display_name": "R",
   "language": "R",
   "name": "ir"
  },
  "language_info": {
   "codemirror_mode": "r",
   "file_extension": ".r",
   "mimetype": "text/x-r-source",
   "name": "R",
   "pygments_lexer": "r",
   "version": "3.6.1"
  }
 },
 "nbformat": 4,
 "nbformat_minor": 2
}
