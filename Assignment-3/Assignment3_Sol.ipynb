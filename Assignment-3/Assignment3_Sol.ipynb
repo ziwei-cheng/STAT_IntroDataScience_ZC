{
 "cells": [
  {
   "cell_type": "markdown",
   "metadata": {},
   "source": [
    "## Assignment 3 (10 Points): Import & Tidy"
   ]
  },
  {
   "cell_type": "code",
   "execution_count": 1,
   "metadata": {},
   "outputs": [
    {
     "name": "stderr",
     "output_type": "stream",
     "text": [
      "── Attaching packages ─────────────────────────────────────── tidyverse 1.3.0 ──\n",
      "✔ ggplot2 3.2.1     ✔ purrr   0.3.3\n",
      "✔ tibble  2.1.3     ✔ dplyr   0.8.3\n",
      "✔ tidyr   1.0.0     ✔ stringr 1.4.0\n",
      "✔ readr   1.3.1     ✔ forcats 0.4.0\n",
      "── Conflicts ────────────────────────────────────────── tidyverse_conflicts() ──\n",
      "✖ dplyr::filter() masks stats::filter()\n",
      "✖ dplyr::lag()    masks stats::lag()\n"
     ]
    }
   ],
   "source": [
    "library(tidyverse)\n",
    "library(nycflights13)"
   ]
  },
  {
   "cell_type": "code",
   "execution_count": 2,
   "metadata": {
    "scrolled": false
   },
   "outputs": [
    {
     "name": "stdout",
     "output_type": "stream",
     "text": [
      "# A tibble: 336,776 x 19\n",
      "    year month   day dep_time sched_dep_time dep_delay arr_time sched_arr_time\n",
      "   <int> <int> <int>    <int>          <int>     <dbl>    <int>          <int>\n",
      " 1  2013     1     1      517            515         2      830            819\n",
      " 2  2013     1     1      533            529         4      850            830\n",
      " 3  2013     1     1      542            540         2      923            850\n",
      " 4  2013     1     1      544            545        -1     1004           1022\n",
      " 5  2013     1     1      554            600        -6      812            837\n",
      " 6  2013     1     1      554            558        -4      740            728\n",
      " 7  2013     1     1      555            600        -5      913            854\n",
      " 8  2013     1     1      557            600        -3      709            723\n",
      " 9  2013     1     1      557            600        -3      838            846\n",
      "10  2013     1     1      558            600        -2      753            745\n",
      "# … with 336,766 more rows, and 11 more variables: arr_delay <dbl>,\n",
      "#   carrier <chr>, flight <int>, tailnum <chr>, origin <chr>, dest <chr>,\n",
      "#   air_time <dbl>, distance <dbl>, hour <dbl>, minute <dbl>, time_hour <dttm>\n"
     ]
    },
    {
     "data": {
      "text/html": [
       "<table>\n",
       "<thead><tr><th scope=col>year</th><th scope=col>month</th><th scope=col>day</th><th scope=col>dep_time</th><th scope=col>sched_dep_time</th><th scope=col>dep_delay</th><th scope=col>arr_time</th><th scope=col>sched_arr_time</th><th scope=col>arr_delay</th><th scope=col>carrier</th><th scope=col>flight</th><th scope=col>tailnum</th><th scope=col>origin</th><th scope=col>dest</th><th scope=col>air_time</th><th scope=col>distance</th><th scope=col>hour</th><th scope=col>minute</th><th scope=col>time_hour</th></tr></thead>\n",
       "<tbody>\n",
       "\t<tr><td>2013               </td><td>1                  </td><td>1                  </td><td>517                </td><td>515                </td><td> 2                 </td><td> 830               </td><td> 819               </td><td> 11                </td><td>UA                 </td><td>1545               </td><td>N14228             </td><td>EWR                </td><td>IAH                </td><td>227                </td><td>1400               </td><td>5                  </td><td>15                 </td><td>2013-01-01 05:00:00</td></tr>\n",
       "\t<tr><td>2013               </td><td>1                  </td><td>1                  </td><td>533                </td><td>529                </td><td> 4                 </td><td> 850               </td><td> 830               </td><td> 20                </td><td>UA                 </td><td>1714               </td><td>N24211             </td><td>LGA                </td><td>IAH                </td><td>227                </td><td>1416               </td><td>5                  </td><td>29                 </td><td>2013-01-01 05:00:00</td></tr>\n",
       "\t<tr><td>2013               </td><td>1                  </td><td>1                  </td><td>542                </td><td>540                </td><td> 2                 </td><td> 923               </td><td> 850               </td><td> 33                </td><td>AA                 </td><td>1141               </td><td>N619AA             </td><td>JFK                </td><td>MIA                </td><td>160                </td><td>1089               </td><td>5                  </td><td>40                 </td><td>2013-01-01 05:00:00</td></tr>\n",
       "\t<tr><td>2013               </td><td>1                  </td><td>1                  </td><td>544                </td><td>545                </td><td>-1                 </td><td>1004               </td><td>1022               </td><td>-18                </td><td>B6                 </td><td> 725               </td><td>N804JB             </td><td>JFK                </td><td>BQN                </td><td>183                </td><td>1576               </td><td>5                  </td><td>45                 </td><td>2013-01-01 05:00:00</td></tr>\n",
       "\t<tr><td>2013               </td><td>1                  </td><td>1                  </td><td>554                </td><td>600                </td><td>-6                 </td><td> 812               </td><td> 837               </td><td>-25                </td><td>DL                 </td><td> 461               </td><td>N668DN             </td><td>LGA                </td><td>ATL                </td><td>116                </td><td> 762               </td><td>6                  </td><td> 0                 </td><td>2013-01-01 06:00:00</td></tr>\n",
       "</tbody>\n",
       "</table>\n"
      ],
      "text/latex": [
       "\\begin{tabular}{r|lllllllllllllllllll}\n",
       " year & month & day & dep\\_time & sched\\_dep\\_time & dep\\_delay & arr\\_time & sched\\_arr\\_time & arr\\_delay & carrier & flight & tailnum & origin & dest & air\\_time & distance & hour & minute & time\\_hour\\\\\n",
       "\\hline\n",
       "\t 2013                & 1                   & 1                   & 517                 & 515                 &  2                  &  830                &  819                &  11                 & UA                  & 1545                & N14228              & EWR                 & IAH                 & 227                 & 1400                & 5                   & 15                  & 2013-01-01 05:00:00\\\\\n",
       "\t 2013                & 1                   & 1                   & 533                 & 529                 &  4                  &  850                &  830                &  20                 & UA                  & 1714                & N24211              & LGA                 & IAH                 & 227                 & 1416                & 5                   & 29                  & 2013-01-01 05:00:00\\\\\n",
       "\t 2013                & 1                   & 1                   & 542                 & 540                 &  2                  &  923                &  850                &  33                 & AA                  & 1141                & N619AA              & JFK                 & MIA                 & 160                 & 1089                & 5                   & 40                  & 2013-01-01 05:00:00\\\\\n",
       "\t 2013                & 1                   & 1                   & 544                 & 545                 & -1                  & 1004                & 1022                & -18                 & B6                  &  725                & N804JB              & JFK                 & BQN                 & 183                 & 1576                & 5                   & 45                  & 2013-01-01 05:00:00\\\\\n",
       "\t 2013                & 1                   & 1                   & 554                 & 600                 & -6                  &  812                &  837                & -25                 & DL                  &  461                & N668DN              & LGA                 & ATL                 & 116                 &  762                & 6                   &  0                  & 2013-01-01 06:00:00\\\\\n",
       "\\end{tabular}\n"
      ],
      "text/markdown": [
       "\n",
       "| year | month | day | dep_time | sched_dep_time | dep_delay | arr_time | sched_arr_time | arr_delay | carrier | flight | tailnum | origin | dest | air_time | distance | hour | minute | time_hour |\n",
       "|---|---|---|---|---|---|---|---|---|---|---|---|---|---|---|---|---|---|---|\n",
       "| 2013                | 1                   | 1                   | 517                 | 515                 |  2                  |  830                |  819                |  11                 | UA                  | 1545                | N14228              | EWR                 | IAH                 | 227                 | 1400                | 5                   | 15                  | 2013-01-01 05:00:00 |\n",
       "| 2013                | 1                   | 1                   | 533                 | 529                 |  4                  |  850                |  830                |  20                 | UA                  | 1714                | N24211              | LGA                 | IAH                 | 227                 | 1416                | 5                   | 29                  | 2013-01-01 05:00:00 |\n",
       "| 2013                | 1                   | 1                   | 542                 | 540                 |  2                  |  923                |  850                |  33                 | AA                  | 1141                | N619AA              | JFK                 | MIA                 | 160                 | 1089                | 5                   | 40                  | 2013-01-01 05:00:00 |\n",
       "| 2013                | 1                   | 1                   | 544                 | 545                 | -1                  | 1004                | 1022                | -18                 | B6                  |  725                | N804JB              | JFK                 | BQN                 | 183                 | 1576                | 5                   | 45                  | 2013-01-01 05:00:00 |\n",
       "| 2013                | 1                   | 1                   | 554                 | 600                 | -6                  |  812                |  837                | -25                 | DL                  |  461                | N668DN              | LGA                 | ATL                 | 116                 |  762                | 6                   |  0                  | 2013-01-01 06:00:00 |\n",
       "\n"
      ],
      "text/plain": [
       "  year month day dep_time sched_dep_time dep_delay arr_time sched_arr_time\n",
       "1 2013 1     1   517      515             2         830      819          \n",
       "2 2013 1     1   533      529             4         850      830          \n",
       "3 2013 1     1   542      540             2         923      850          \n",
       "4 2013 1     1   544      545            -1        1004     1022          \n",
       "5 2013 1     1   554      600            -6         812      837          \n",
       "  arr_delay carrier flight tailnum origin dest air_time distance hour minute\n",
       "1  11       UA      1545   N14228  EWR    IAH  227      1400     5    15    \n",
       "2  20       UA      1714   N24211  LGA    IAH  227      1416     5    29    \n",
       "3  33       AA      1141   N619AA  JFK    MIA  160      1089     5    40    \n",
       "4 -18       B6       725   N804JB  JFK    BQN  183      1576     5    45    \n",
       "5 -25       DL       461   N668DN  LGA    ATL  116       762     6     0    \n",
       "  time_hour          \n",
       "1 2013-01-01 05:00:00\n",
       "2 2013-01-01 05:00:00\n",
       "3 2013-01-01 05:00:00\n",
       "4 2013-01-01 05:00:00\n",
       "5 2013-01-01 06:00:00"
      ]
     },
     "metadata": {},
     "output_type": "display_data"
    },
    {
     "data": {
      "text/html": [
       "<table>\n",
       "<thead><tr><th scope=col>year</th><th scope=col>month</th><th scope=col>day</th><th scope=col>dep_time</th><th scope=col>sched_dep_time</th><th scope=col>dep_delay</th><th scope=col>arr_time</th><th scope=col>sched_arr_time</th><th scope=col>arr_delay</th><th scope=col>carrier</th><th scope=col>flight</th><th scope=col>tailnum</th><th scope=col>origin</th><th scope=col>dest</th><th scope=col>air_time</th><th scope=col>distance</th><th scope=col>hour</th><th scope=col>minute</th><th scope=col>time_hour</th></tr></thead>\n",
       "<tbody>\n",
       "\t<tr><td>2013               </td><td>9                  </td><td>30                 </td><td>NA                 </td><td>1455               </td><td>NA                 </td><td>NA                 </td><td>1634               </td><td>NA                 </td><td>9E                 </td><td>3393               </td><td>NA                 </td><td>JFK                </td><td>DCA                </td><td>NA                 </td><td>213                </td><td>14                 </td><td>55                 </td><td>2013-09-30 14:00:00</td></tr>\n",
       "\t<tr><td>2013               </td><td>9                  </td><td>30                 </td><td>NA                 </td><td>2200               </td><td>NA                 </td><td>NA                 </td><td>2312               </td><td>NA                 </td><td>9E                 </td><td>3525               </td><td>NA                 </td><td>LGA                </td><td>SYR                </td><td>NA                 </td><td>198                </td><td>22                 </td><td> 0                 </td><td>2013-09-30 22:00:00</td></tr>\n",
       "\t<tr><td>2013               </td><td>9                  </td><td>30                 </td><td>NA                 </td><td>1210               </td><td>NA                 </td><td>NA                 </td><td>1330               </td><td>NA                 </td><td>MQ                 </td><td>3461               </td><td>N535MQ             </td><td>LGA                </td><td>BNA                </td><td>NA                 </td><td>764                </td><td>12                 </td><td>10                 </td><td>2013-09-30 12:00:00</td></tr>\n",
       "\t<tr><td>2013               </td><td>9                  </td><td>30                 </td><td>NA                 </td><td>1159               </td><td>NA                 </td><td>NA                 </td><td>1344               </td><td>NA                 </td><td>MQ                 </td><td>3572               </td><td>N511MQ             </td><td>LGA                </td><td>CLE                </td><td>NA                 </td><td>419                </td><td>11                 </td><td>59                 </td><td>2013-09-30 11:00:00</td></tr>\n",
       "\t<tr><td>2013               </td><td>9                  </td><td>30                 </td><td>NA                 </td><td> 840               </td><td>NA                 </td><td>NA                 </td><td>1020               </td><td>NA                 </td><td>MQ                 </td><td>3531               </td><td>N839MQ             </td><td>LGA                </td><td>RDU                </td><td>NA                 </td><td>431                </td><td> 8                 </td><td>40                 </td><td>2013-09-30 08:00:00</td></tr>\n",
       "</tbody>\n",
       "</table>\n"
      ],
      "text/latex": [
       "\\begin{tabular}{r|lllllllllllllllllll}\n",
       " year & month & day & dep\\_time & sched\\_dep\\_time & dep\\_delay & arr\\_time & sched\\_arr\\_time & arr\\_delay & carrier & flight & tailnum & origin & dest & air\\_time & distance & hour & minute & time\\_hour\\\\\n",
       "\\hline\n",
       "\t 2013                & 9                   & 30                  & NA                  & 1455                & NA                  & NA                  & 1634                & NA                  & 9E                  & 3393                & NA                  & JFK                 & DCA                 & NA                  & 213                 & 14                  & 55                  & 2013-09-30 14:00:00\\\\\n",
       "\t 2013                & 9                   & 30                  & NA                  & 2200                & NA                  & NA                  & 2312                & NA                  & 9E                  & 3525                & NA                  & LGA                 & SYR                 & NA                  & 198                 & 22                  &  0                  & 2013-09-30 22:00:00\\\\\n",
       "\t 2013                & 9                   & 30                  & NA                  & 1210                & NA                  & NA                  & 1330                & NA                  & MQ                  & 3461                & N535MQ              & LGA                 & BNA                 & NA                  & 764                 & 12                  & 10                  & 2013-09-30 12:00:00\\\\\n",
       "\t 2013                & 9                   & 30                  & NA                  & 1159                & NA                  & NA                  & 1344                & NA                  & MQ                  & 3572                & N511MQ              & LGA                 & CLE                 & NA                  & 419                 & 11                  & 59                  & 2013-09-30 11:00:00\\\\\n",
       "\t 2013                & 9                   & 30                  & NA                  &  840                & NA                  & NA                  & 1020                & NA                  & MQ                  & 3531                & N839MQ              & LGA                 & RDU                 & NA                  & 431                 &  8                  & 40                  & 2013-09-30 08:00:00\\\\\n",
       "\\end{tabular}\n"
      ],
      "text/markdown": [
       "\n",
       "| year | month | day | dep_time | sched_dep_time | dep_delay | arr_time | sched_arr_time | arr_delay | carrier | flight | tailnum | origin | dest | air_time | distance | hour | minute | time_hour |\n",
       "|---|---|---|---|---|---|---|---|---|---|---|---|---|---|---|---|---|---|---|\n",
       "| 2013                | 9                   | 30                  | NA                  | 1455                | NA                  | NA                  | 1634                | NA                  | 9E                  | 3393                | NA                  | JFK                 | DCA                 | NA                  | 213                 | 14                  | 55                  | 2013-09-30 14:00:00 |\n",
       "| 2013                | 9                   | 30                  | NA                  | 2200                | NA                  | NA                  | 2312                | NA                  | 9E                  | 3525                | NA                  | LGA                 | SYR                 | NA                  | 198                 | 22                  |  0                  | 2013-09-30 22:00:00 |\n",
       "| 2013                | 9                   | 30                  | NA                  | 1210                | NA                  | NA                  | 1330                | NA                  | MQ                  | 3461                | N535MQ              | LGA                 | BNA                 | NA                  | 764                 | 12                  | 10                  | 2013-09-30 12:00:00 |\n",
       "| 2013                | 9                   | 30                  | NA                  | 1159                | NA                  | NA                  | 1344                | NA                  | MQ                  | 3572                | N511MQ              | LGA                 | CLE                 | NA                  | 419                 | 11                  | 59                  | 2013-09-30 11:00:00 |\n",
       "| 2013                | 9                   | 30                  | NA                  |  840                | NA                  | NA                  | 1020                | NA                  | MQ                  | 3531                | N839MQ              | LGA                 | RDU                 | NA                  | 431                 |  8                  | 40                  | 2013-09-30 08:00:00 |\n",
       "\n"
      ],
      "text/plain": [
       "  year month day dep_time sched_dep_time dep_delay arr_time sched_arr_time\n",
       "1 2013 9     30  NA       1455           NA        NA       1634          \n",
       "2 2013 9     30  NA       2200           NA        NA       2312          \n",
       "3 2013 9     30  NA       1210           NA        NA       1330          \n",
       "4 2013 9     30  NA       1159           NA        NA       1344          \n",
       "5 2013 9     30  NA        840           NA        NA       1020          \n",
       "  arr_delay carrier flight tailnum origin dest air_time distance hour minute\n",
       "1 NA        9E      3393   NA      JFK    DCA  NA       213      14   55    \n",
       "2 NA        9E      3525   NA      LGA    SYR  NA       198      22    0    \n",
       "3 NA        MQ      3461   N535MQ  LGA    BNA  NA       764      12   10    \n",
       "4 NA        MQ      3572   N511MQ  LGA    CLE  NA       419      11   59    \n",
       "5 NA        MQ      3531   N839MQ  LGA    RDU  NA       431       8   40    \n",
       "  time_hour          \n",
       "1 2013-09-30 14:00:00\n",
       "2 2013-09-30 22:00:00\n",
       "3 2013-09-30 12:00:00\n",
       "4 2013-09-30 11:00:00\n",
       "5 2013-09-30 08:00:00"
      ]
     },
     "metadata": {},
     "output_type": "display_data"
    },
    {
     "data": {
      "text/html": [
       "<table>\n",
       "<thead><tr><th scope=col>year</th><th scope=col>month</th><th scope=col>day</th><th scope=col>dep_time</th><th scope=col>sched_dep_time</th><th scope=col>dep_delay</th><th scope=col>arr_time</th><th scope=col>sched_arr_time</th><th scope=col>arr_delay</th><th scope=col>carrier</th><th scope=col>flight</th><th scope=col>tailnum</th><th scope=col>origin</th><th scope=col>dest</th><th scope=col>air_time</th><th scope=col>distance</th><th scope=col>hour</th><th scope=col>minute</th><th scope=col>time_hour</th></tr></thead>\n",
       "<tbody>\n",
       "\t<tr><td>2013               </td><td>5                  </td><td>21                 </td><td> 553               </td><td> 600               </td><td>-7                 </td><td> 648               </td><td> 701               </td><td>-13                </td><td>US                 </td><td>2114               </td><td>N733UW             </td><td>LGA                </td><td>BOS                </td><td> 32                </td><td> 184               </td><td> 6                 </td><td> 0                 </td><td>2013-05-21 06:00:00</td></tr>\n",
       "\t<tr><td>2013               </td><td>6                  </td><td>10                 </td><td> 804               </td><td> 805               </td><td>-1                 </td><td>1056               </td><td>1055               </td><td>  1                </td><td>DL                 </td><td>1109               </td><td>N376NW             </td><td>LGA                </td><td>TPA                </td><td>139                </td><td>1010               </td><td> 8                 </td><td> 5                 </td><td>2013-06-10 08:00:00</td></tr>\n",
       "\t<tr><td>2013               </td><td>3                  </td><td>20                 </td><td> 655               </td><td> 656               </td><td>-1                 </td><td> 915               </td><td> 924               </td><td> -9                </td><td>B6                 </td><td> 117               </td><td>N768JB             </td><td>JFK                </td><td>MSY                </td><td>183                </td><td>1182               </td><td> 6                 </td><td>56                 </td><td>2013-03-20 06:00:00</td></tr>\n",
       "\t<tr><td>2013               </td><td>3                  </td><td>24                 </td><td>2027               </td><td>1918               </td><td>69                 </td><td>2325               </td><td>2216               </td><td> 69                </td><td>UA                 </td><td>1159               </td><td>N73278             </td><td>EWR                </td><td>PBI                </td><td>153                </td><td>1023               </td><td>19                 </td><td>18                 </td><td>2013-03-24 19:00:00</td></tr>\n",
       "\t<tr><td>2013               </td><td>9                  </td><td>13                 </td><td> 759               </td><td> 800               </td><td>-1                 </td><td> 902               </td><td> 904               </td><td> -2                </td><td>B6                 </td><td>1491               </td><td>N247JB             </td><td>JFK                </td><td>ACK                </td><td> 44                </td><td> 199               </td><td> 8                 </td><td> 0                 </td><td>2013-09-13 08:00:00</td></tr>\n",
       "</tbody>\n",
       "</table>\n"
      ],
      "text/latex": [
       "\\begin{tabular}{r|lllllllllllllllllll}\n",
       " year & month & day & dep\\_time & sched\\_dep\\_time & dep\\_delay & arr\\_time & sched\\_arr\\_time & arr\\_delay & carrier & flight & tailnum & origin & dest & air\\_time & distance & hour & minute & time\\_hour\\\\\n",
       "\\hline\n",
       "\t 2013                & 5                   & 21                  &  553                &  600                & -7                  &  648                &  701                & -13                 & US                  & 2114                & N733UW              & LGA                 & BOS                 &  32                 &  184                &  6                  &  0                  & 2013-05-21 06:00:00\\\\\n",
       "\t 2013                & 6                   & 10                  &  804                &  805                & -1                  & 1056                & 1055                &   1                 & DL                  & 1109                & N376NW              & LGA                 & TPA                 & 139                 & 1010                &  8                  &  5                  & 2013-06-10 08:00:00\\\\\n",
       "\t 2013                & 3                   & 20                  &  655                &  656                & -1                  &  915                &  924                &  -9                 & B6                  &  117                & N768JB              & JFK                 & MSY                 & 183                 & 1182                &  6                  & 56                  & 2013-03-20 06:00:00\\\\\n",
       "\t 2013                & 3                   & 24                  & 2027                & 1918                & 69                  & 2325                & 2216                &  69                 & UA                  & 1159                & N73278              & EWR                 & PBI                 & 153                 & 1023                & 19                  & 18                  & 2013-03-24 19:00:00\\\\\n",
       "\t 2013                & 9                   & 13                  &  759                &  800                & -1                  &  902                &  904                &  -2                 & B6                  & 1491                & N247JB              & JFK                 & ACK                 &  44                 &  199                &  8                  &  0                  & 2013-09-13 08:00:00\\\\\n",
       "\\end{tabular}\n"
      ],
      "text/markdown": [
       "\n",
       "| year | month | day | dep_time | sched_dep_time | dep_delay | arr_time | sched_arr_time | arr_delay | carrier | flight | tailnum | origin | dest | air_time | distance | hour | minute | time_hour |\n",
       "|---|---|---|---|---|---|---|---|---|---|---|---|---|---|---|---|---|---|---|\n",
       "| 2013                | 5                   | 21                  |  553                |  600                | -7                  |  648                |  701                | -13                 | US                  | 2114                | N733UW              | LGA                 | BOS                 |  32                 |  184                |  6                  |  0                  | 2013-05-21 06:00:00 |\n",
       "| 2013                | 6                   | 10                  |  804                |  805                | -1                  | 1056                | 1055                |   1                 | DL                  | 1109                | N376NW              | LGA                 | TPA                 | 139                 | 1010                |  8                  |  5                  | 2013-06-10 08:00:00 |\n",
       "| 2013                | 3                   | 20                  |  655                |  656                | -1                  |  915                |  924                |  -9                 | B6                  |  117                | N768JB              | JFK                 | MSY                 | 183                 | 1182                |  6                  | 56                  | 2013-03-20 06:00:00 |\n",
       "| 2013                | 3                   | 24                  | 2027                | 1918                | 69                  | 2325                | 2216                |  69                 | UA                  | 1159                | N73278              | EWR                 | PBI                 | 153                 | 1023                | 19                  | 18                  | 2013-03-24 19:00:00 |\n",
       "| 2013                | 9                   | 13                  |  759                |  800                | -1                  |  902                |  904                |  -2                 | B6                  | 1491                | N247JB              | JFK                 | ACK                 |  44                 |  199                |  8                  |  0                  | 2013-09-13 08:00:00 |\n",
       "\n"
      ],
      "text/plain": [
       "  year month day dep_time sched_dep_time dep_delay arr_time sched_arr_time\n",
       "1 2013 5     21   553      600           -7         648      701          \n",
       "2 2013 6     10   804      805           -1        1056     1055          \n",
       "3 2013 3     20   655      656           -1         915      924          \n",
       "4 2013 3     24  2027     1918           69        2325     2216          \n",
       "5 2013 9     13   759      800           -1         902      904          \n",
       "  arr_delay carrier flight tailnum origin dest air_time distance hour minute\n",
       "1 -13       US      2114   N733UW  LGA    BOS   32       184      6    0    \n",
       "2   1       DL      1109   N376NW  LGA    TPA  139      1010      8    5    \n",
       "3  -9       B6       117   N768JB  JFK    MSY  183      1182      6   56    \n",
       "4  69       UA      1159   N73278  EWR    PBI  153      1023     19   18    \n",
       "5  -2       B6      1491   N247JB  JFK    ACK   44       199      8    0    \n",
       "  time_hour          \n",
       "1 2013-05-21 06:00:00\n",
       "2 2013-06-10 08:00:00\n",
       "3 2013-03-20 06:00:00\n",
       "4 2013-03-24 19:00:00\n",
       "5 2013-09-13 08:00:00"
      ]
     },
     "metadata": {},
     "output_type": "display_data"
    }
   ],
   "source": [
    "print(flights)\n",
    "head(flights, 5)\n",
    "tail(flights, 5)\n",
    "sample_n(flights, 5)"
   ]
  },
  {
   "cell_type": "markdown",
   "metadata": {},
   "source": [
    "### Q1 (4 points): Make the flights data messy and write the result into a csv file named \"flights_messy.csv\"."
   ]
  },
  {
   "cell_type": "code",
   "execution_count": 3,
   "metadata": {},
   "outputs": [],
   "source": [
    "df<-flights"
   ]
  },
  {
   "cell_type": "code",
   "execution_count": 4,
   "metadata": {},
   "outputs": [
    {
     "name": "stdout",
     "output_type": "stream",
     "text": [
      "# A tibble: 336,776 x 17\n",
      "   date  dep_time sched_dep_time dep_delay arr_time sched_arr_time arr_delay\n",
      "   <chr>    <int>          <int>     <dbl>    <int>          <int>     <dbl>\n",
      " 1 2013…      517            515         2      830            819        11\n",
      " 2 2013…      533            529         4      850            830        20\n",
      " 3 2013…      542            540         2      923            850        33\n",
      " 4 2013…      544            545        -1     1004           1022       -18\n",
      " 5 2013…      554            600        -6      812            837       -25\n",
      " 6 2013…      554            558        -4      740            728        12\n",
      " 7 2013…      555            600        -5      913            854        19\n",
      " 8 2013…      557            600        -3      709            723       -14\n",
      " 9 2013…      557            600        -3      838            846        -8\n",
      "10 2013…      558            600        -2      753            745         8\n",
      "# … with 336,766 more rows, and 10 more variables: carrier_flight <chr>,\n",
      "#   tailnum <chr>, air_time <dbl>, distance <dbl>, hour <dbl>, minute <dbl>,\n",
      "#   time_hour <dttm>, EWR <chr>, LGA <chr>, JFK <chr>\n"
     ]
    },
    {
     "data": {
      "text/html": [
       "<table>\n",
       "<thead><tr><th scope=col>date</th><th scope=col>dep_time</th><th scope=col>sched_dep_time</th><th scope=col>dep_delay</th><th scope=col>arr_time</th><th scope=col>sched_arr_time</th><th scope=col>arr_delay</th><th scope=col>carrier_flight</th><th scope=col>tailnum</th><th scope=col>air_time</th><th scope=col>distance</th><th scope=col>hour</th><th scope=col>minute</th><th scope=col>time_hour</th><th scope=col>EWR</th><th scope=col>LGA</th><th scope=col>JFK</th></tr></thead>\n",
       "<tbody>\n",
       "\t<tr><td>2013/1/1           </td><td>517                </td><td>515                </td><td> 2                 </td><td> 830               </td><td> 819               </td><td> 11                </td><td>UA_1545            </td><td>N14228             </td><td>227                </td><td>1400               </td><td>5                  </td><td>15                 </td><td>2013-01-01 05:00:00</td><td>IAH                </td><td>NA                 </td><td>NA                 </td></tr>\n",
       "\t<tr><td>2013/1/1           </td><td>533                </td><td>529                </td><td> 4                 </td><td> 850               </td><td> 830               </td><td> 20                </td><td>UA_1714            </td><td>N24211             </td><td>227                </td><td>1416               </td><td>5                  </td><td>29                 </td><td>2013-01-01 05:00:00</td><td>NA                 </td><td>IAH                </td><td>NA                 </td></tr>\n",
       "\t<tr><td>2013/1/1           </td><td>542                </td><td>540                </td><td> 2                 </td><td> 923               </td><td> 850               </td><td> 33                </td><td>AA_1141            </td><td>N619AA             </td><td>160                </td><td>1089               </td><td>5                  </td><td>40                 </td><td>2013-01-01 05:00:00</td><td>NA                 </td><td>NA                 </td><td>MIA                </td></tr>\n",
       "\t<tr><td>2013/1/1           </td><td>544                </td><td>545                </td><td>-1                 </td><td>1004               </td><td>1022               </td><td>-18                </td><td>B6_725             </td><td>N804JB             </td><td>183                </td><td>1576               </td><td>5                  </td><td>45                 </td><td>2013-01-01 05:00:00</td><td>NA                 </td><td>NA                 </td><td>BQN                </td></tr>\n",
       "\t<tr><td>2013/1/1           </td><td>554                </td><td>600                </td><td>-6                 </td><td> 812               </td><td> 837               </td><td>-25                </td><td>DL_461             </td><td>N668DN             </td><td>116                </td><td> 762               </td><td>6                  </td><td> 0                 </td><td>2013-01-01 06:00:00</td><td>NA                 </td><td>ATL                </td><td>NA                 </td></tr>\n",
       "</tbody>\n",
       "</table>\n"
      ],
      "text/latex": [
       "\\begin{tabular}{r|lllllllllllllllll}\n",
       " date & dep\\_time & sched\\_dep\\_time & dep\\_delay & arr\\_time & sched\\_arr\\_time & arr\\_delay & carrier\\_flight & tailnum & air\\_time & distance & hour & minute & time\\_hour & EWR & LGA & JFK\\\\\n",
       "\\hline\n",
       "\t 2013/1/1            & 517                 & 515                 &  2                  &  830                &  819                &  11                 & UA\\_1545           & N14228              & 227                 & 1400                & 5                   & 15                  & 2013-01-01 05:00:00 & IAH                 & NA                  & NA                 \\\\\n",
       "\t 2013/1/1            & 533                 & 529                 &  4                  &  850                &  830                &  20                 & UA\\_1714           & N24211              & 227                 & 1416                & 5                   & 29                  & 2013-01-01 05:00:00 & NA                  & IAH                 & NA                 \\\\\n",
       "\t 2013/1/1            & 542                 & 540                 &  2                  &  923                &  850                &  33                 & AA\\_1141           & N619AA              & 160                 & 1089                & 5                   & 40                  & 2013-01-01 05:00:00 & NA                  & NA                  & MIA                \\\\\n",
       "\t 2013/1/1            & 544                 & 545                 & -1                  & 1004                & 1022                & -18                 & B6\\_725            & N804JB              & 183                 & 1576                & 5                   & 45                  & 2013-01-01 05:00:00 & NA                  & NA                  & BQN                \\\\\n",
       "\t 2013/1/1            & 554                 & 600                 & -6                  &  812                &  837                & -25                 & DL\\_461            & N668DN              & 116                 &  762                & 6                   &  0                  & 2013-01-01 06:00:00 & NA                  & ATL                 & NA                 \\\\\n",
       "\\end{tabular}\n"
      ],
      "text/markdown": [
       "\n",
       "| date | dep_time | sched_dep_time | dep_delay | arr_time | sched_arr_time | arr_delay | carrier_flight | tailnum | air_time | distance | hour | minute | time_hour | EWR | LGA | JFK |\n",
       "|---|---|---|---|---|---|---|---|---|---|---|---|---|---|---|---|---|\n",
       "| 2013/1/1            | 517                 | 515                 |  2                  |  830                |  819                |  11                 | UA_1545             | N14228              | 227                 | 1400                | 5                   | 15                  | 2013-01-01 05:00:00 | IAH                 | NA                  | NA                  |\n",
       "| 2013/1/1            | 533                 | 529                 |  4                  |  850                |  830                |  20                 | UA_1714             | N24211              | 227                 | 1416                | 5                   | 29                  | 2013-01-01 05:00:00 | NA                  | IAH                 | NA                  |\n",
       "| 2013/1/1            | 542                 | 540                 |  2                  |  923                |  850                |  33                 | AA_1141             | N619AA              | 160                 | 1089                | 5                   | 40                  | 2013-01-01 05:00:00 | NA                  | NA                  | MIA                 |\n",
       "| 2013/1/1            | 544                 | 545                 | -1                  | 1004                | 1022                | -18                 | B6_725              | N804JB              | 183                 | 1576                | 5                   | 45                  | 2013-01-01 05:00:00 | NA                  | NA                  | BQN                 |\n",
       "| 2013/1/1            | 554                 | 600                 | -6                  |  812                |  837                | -25                 | DL_461              | N668DN              | 116                 |  762                | 6                   |  0                  | 2013-01-01 06:00:00 | NA                  | ATL                 | NA                  |\n",
       "\n"
      ],
      "text/plain": [
       "  date     dep_time sched_dep_time dep_delay arr_time sched_arr_time arr_delay\n",
       "1 2013/1/1 517      515             2         830      819            11      \n",
       "2 2013/1/1 533      529             4         850      830            20      \n",
       "3 2013/1/1 542      540             2         923      850            33      \n",
       "4 2013/1/1 544      545            -1        1004     1022           -18      \n",
       "5 2013/1/1 554      600            -6         812      837           -25      \n",
       "  carrier_flight tailnum air_time distance hour minute time_hour           EWR\n",
       "1 UA_1545        N14228  227      1400     5    15     2013-01-01 05:00:00 IAH\n",
       "2 UA_1714        N24211  227      1416     5    29     2013-01-01 05:00:00 NA \n",
       "3 AA_1141        N619AA  160      1089     5    40     2013-01-01 05:00:00 NA \n",
       "4 B6_725         N804JB  183      1576     5    45     2013-01-01 05:00:00 NA \n",
       "5 DL_461         N668DN  116       762     6     0     2013-01-01 06:00:00 NA \n",
       "  LGA JFK\n",
       "1 NA  NA \n",
       "2 IAH NA \n",
       "3 NA  MIA\n",
       "4 NA  BQN\n",
       "5 ATL NA "
      ]
     },
     "metadata": {},
     "output_type": "display_data"
    },
    {
     "data": {
      "text/html": [
       "<table>\n",
       "<thead><tr><th scope=col>date</th><th scope=col>dep_time</th><th scope=col>sched_dep_time</th><th scope=col>dep_delay</th><th scope=col>arr_time</th><th scope=col>sched_arr_time</th><th scope=col>arr_delay</th><th scope=col>carrier_flight</th><th scope=col>tailnum</th><th scope=col>air_time</th><th scope=col>distance</th><th scope=col>hour</th><th scope=col>minute</th><th scope=col>time_hour</th><th scope=col>EWR</th><th scope=col>LGA</th><th scope=col>JFK</th></tr></thead>\n",
       "<tbody>\n",
       "\t<tr><td>2013/9/30          </td><td>NA                 </td><td>1455               </td><td>NA                 </td><td>NA                 </td><td>1634               </td><td>NA                 </td><td>9E_3393            </td><td>NA                 </td><td>NA                 </td><td>213                </td><td>14                 </td><td>55                 </td><td>2013-09-30 14:00:00</td><td>NA                 </td><td>NA                 </td><td>DCA                </td></tr>\n",
       "\t<tr><td>2013/9/30          </td><td>NA                 </td><td>2200               </td><td>NA                 </td><td>NA                 </td><td>2312               </td><td>NA                 </td><td>9E_3525            </td><td>NA                 </td><td>NA                 </td><td>198                </td><td>22                 </td><td> 0                 </td><td>2013-09-30 22:00:00</td><td>NA                 </td><td>SYR                </td><td>NA                 </td></tr>\n",
       "\t<tr><td>2013/9/30          </td><td>NA                 </td><td>1210               </td><td>NA                 </td><td>NA                 </td><td>1330               </td><td>NA                 </td><td>MQ_3461            </td><td>N535MQ             </td><td>NA                 </td><td>764                </td><td>12                 </td><td>10                 </td><td>2013-09-30 12:00:00</td><td>NA                 </td><td>BNA                </td><td>NA                 </td></tr>\n",
       "\t<tr><td>2013/9/30          </td><td>NA                 </td><td>1159               </td><td>NA                 </td><td>NA                 </td><td>1344               </td><td>NA                 </td><td>MQ_3572            </td><td>N511MQ             </td><td>NA                 </td><td>419                </td><td>11                 </td><td>59                 </td><td>2013-09-30 11:00:00</td><td>NA                 </td><td>CLE                </td><td>NA                 </td></tr>\n",
       "\t<tr><td>2013/9/30          </td><td>NA                 </td><td> 840               </td><td>NA                 </td><td>NA                 </td><td>1020               </td><td>NA                 </td><td>MQ_3531            </td><td>N839MQ             </td><td>NA                 </td><td>431                </td><td> 8                 </td><td>40                 </td><td>2013-09-30 08:00:00</td><td>NA                 </td><td>RDU                </td><td>NA                 </td></tr>\n",
       "</tbody>\n",
       "</table>\n"
      ],
      "text/latex": [
       "\\begin{tabular}{r|lllllllllllllllll}\n",
       " date & dep\\_time & sched\\_dep\\_time & dep\\_delay & arr\\_time & sched\\_arr\\_time & arr\\_delay & carrier\\_flight & tailnum & air\\_time & distance & hour & minute & time\\_hour & EWR & LGA & JFK\\\\\n",
       "\\hline\n",
       "\t 2013/9/30           & NA                  & 1455                & NA                  & NA                  & 1634                & NA                  & 9E\\_3393           & NA                  & NA                  & 213                 & 14                  & 55                  & 2013-09-30 14:00:00 & NA                  & NA                  & DCA                \\\\\n",
       "\t 2013/9/30           & NA                  & 2200                & NA                  & NA                  & 2312                & NA                  & 9E\\_3525           & NA                  & NA                  & 198                 & 22                  &  0                  & 2013-09-30 22:00:00 & NA                  & SYR                 & NA                 \\\\\n",
       "\t 2013/9/30           & NA                  & 1210                & NA                  & NA                  & 1330                & NA                  & MQ\\_3461           & N535MQ              & NA                  & 764                 & 12                  & 10                  & 2013-09-30 12:00:00 & NA                  & BNA                 & NA                 \\\\\n",
       "\t 2013/9/30           & NA                  & 1159                & NA                  & NA                  & 1344                & NA                  & MQ\\_3572           & N511MQ              & NA                  & 419                 & 11                  & 59                  & 2013-09-30 11:00:00 & NA                  & CLE                 & NA                 \\\\\n",
       "\t 2013/9/30           & NA                  &  840                & NA                  & NA                  & 1020                & NA                  & MQ\\_3531           & N839MQ              & NA                  & 431                 &  8                  & 40                  & 2013-09-30 08:00:00 & NA                  & RDU                 & NA                 \\\\\n",
       "\\end{tabular}\n"
      ],
      "text/markdown": [
       "\n",
       "| date | dep_time | sched_dep_time | dep_delay | arr_time | sched_arr_time | arr_delay | carrier_flight | tailnum | air_time | distance | hour | minute | time_hour | EWR | LGA | JFK |\n",
       "|---|---|---|---|---|---|---|---|---|---|---|---|---|---|---|---|---|\n",
       "| 2013/9/30           | NA                  | 1455                | NA                  | NA                  | 1634                | NA                  | 9E_3393             | NA                  | NA                  | 213                 | 14                  | 55                  | 2013-09-30 14:00:00 | NA                  | NA                  | DCA                 |\n",
       "| 2013/9/30           | NA                  | 2200                | NA                  | NA                  | 2312                | NA                  | 9E_3525             | NA                  | NA                  | 198                 | 22                  |  0                  | 2013-09-30 22:00:00 | NA                  | SYR                 | NA                  |\n",
       "| 2013/9/30           | NA                  | 1210                | NA                  | NA                  | 1330                | NA                  | MQ_3461             | N535MQ              | NA                  | 764                 | 12                  | 10                  | 2013-09-30 12:00:00 | NA                  | BNA                 | NA                  |\n",
       "| 2013/9/30           | NA                  | 1159                | NA                  | NA                  | 1344                | NA                  | MQ_3572             | N511MQ              | NA                  | 419                 | 11                  | 59                  | 2013-09-30 11:00:00 | NA                  | CLE                 | NA                  |\n",
       "| 2013/9/30           | NA                  |  840                | NA                  | NA                  | 1020                | NA                  | MQ_3531             | N839MQ              | NA                  | 431                 |  8                  | 40                  | 2013-09-30 08:00:00 | NA                  | RDU                 | NA                  |\n",
       "\n"
      ],
      "text/plain": [
       "  date      dep_time sched_dep_time dep_delay arr_time sched_arr_time arr_delay\n",
       "1 2013/9/30 NA       1455           NA        NA       1634           NA       \n",
       "2 2013/9/30 NA       2200           NA        NA       2312           NA       \n",
       "3 2013/9/30 NA       1210           NA        NA       1330           NA       \n",
       "4 2013/9/30 NA       1159           NA        NA       1344           NA       \n",
       "5 2013/9/30 NA        840           NA        NA       1020           NA       \n",
       "  carrier_flight tailnum air_time distance hour minute time_hour           EWR\n",
       "1 9E_3393        NA      NA       213      14   55     2013-09-30 14:00:00 NA \n",
       "2 9E_3525        NA      NA       198      22    0     2013-09-30 22:00:00 NA \n",
       "3 MQ_3461        N535MQ  NA       764      12   10     2013-09-30 12:00:00 NA \n",
       "4 MQ_3572        N511MQ  NA       419      11   59     2013-09-30 11:00:00 NA \n",
       "5 MQ_3531        N839MQ  NA       431       8   40     2013-09-30 08:00:00 NA \n",
       "  LGA JFK\n",
       "1 NA  DCA\n",
       "2 SYR NA \n",
       "3 BNA NA \n",
       "4 CLE NA \n",
       "5 RDU NA "
      ]
     },
     "metadata": {},
     "output_type": "display_data"
    },
    {
     "data": {
      "text/html": [
       "<table>\n",
       "<thead><tr><th scope=col>date</th><th scope=col>dep_time</th><th scope=col>sched_dep_time</th><th scope=col>dep_delay</th><th scope=col>arr_time</th><th scope=col>sched_arr_time</th><th scope=col>arr_delay</th><th scope=col>carrier_flight</th><th scope=col>tailnum</th><th scope=col>air_time</th><th scope=col>distance</th><th scope=col>hour</th><th scope=col>minute</th><th scope=col>time_hour</th><th scope=col>EWR</th><th scope=col>LGA</th><th scope=col>JFK</th></tr></thead>\n",
       "<tbody>\n",
       "\t<tr><td>2013/3/30          </td><td>1957               </td><td>1935               </td><td>22                 </td><td>2226               </td><td>2232               </td><td>-6                 </td><td>DL_1485            </td><td>N933DL             </td><td>132                </td><td> 950               </td><td>19                 </td><td>35                 </td><td>2013-03-30 19:00:00</td><td>NA                 </td><td>MCO                </td><td>NA                 </td></tr>\n",
       "\t<tr><td>2013/1/17          </td><td>1659               </td><td>1700               </td><td>-1                 </td><td>1835               </td><td>1839               </td><td>-4                 </td><td>UA_689             </td><td>N816UA             </td><td>132                </td><td> 733               </td><td>17                 </td><td> 0                 </td><td>2013-01-17 17:00:00</td><td>NA                 </td><td>ORD                </td><td>NA                 </td></tr>\n",
       "\t<tr><td>2013/10/30         </td><td> 800               </td><td> 805               </td><td>-5                 </td><td>1022               </td><td>1022               </td><td> 0                 </td><td>EV_4364            </td><td>N14180             </td><td>174                </td><td>1092               </td><td> 8                 </td><td> 5                 </td><td>2013-10-30 08:00:00</td><td>MCI                </td><td>NA                 </td><td>NA                 </td></tr>\n",
       "\t<tr><td>2013/12/31         </td><td>  NA               </td><td> 825               </td><td>NA                 </td><td>  NA               </td><td>1029               </td><td>NA                 </td><td>US_1831            </td><td>NA                 </td><td> NA                </td><td> 541               </td><td> 8                 </td><td>25                 </td><td>2013-12-31 08:00:00</td><td>NA                 </td><td>NA                 </td><td>CLT                </td></tr>\n",
       "\t<tr><td>2013/8/12          </td><td> 644               </td><td> 645               </td><td>-1                 </td><td> 912               </td><td> 908               </td><td> 4                 </td><td>US_623             </td><td>N524UW             </td><td>300                </td><td>2153               </td><td> 6                 </td><td>45                 </td><td>2013-08-12 06:00:00</td><td>NA                 </td><td>NA                 </td><td>PHX                </td></tr>\n",
       "</tbody>\n",
       "</table>\n"
      ],
      "text/latex": [
       "\\begin{tabular}{r|lllllllllllllllll}\n",
       " date & dep\\_time & sched\\_dep\\_time & dep\\_delay & arr\\_time & sched\\_arr\\_time & arr\\_delay & carrier\\_flight & tailnum & air\\_time & distance & hour & minute & time\\_hour & EWR & LGA & JFK\\\\\n",
       "\\hline\n",
       "\t 2013/3/30           & 1957                & 1935                & 22                  & 2226                & 2232                & -6                  & DL\\_1485           & N933DL              & 132                 &  950                & 19                  & 35                  & 2013-03-30 19:00:00 & NA                  & MCO                 & NA                 \\\\\n",
       "\t 2013/1/17           & 1659                & 1700                & -1                  & 1835                & 1839                & -4                  & UA\\_689            & N816UA              & 132                 &  733                & 17                  &  0                  & 2013-01-17 17:00:00 & NA                  & ORD                 & NA                 \\\\\n",
       "\t 2013/10/30          &  800                &  805                & -5                  & 1022                & 1022                &  0                  & EV\\_4364           & N14180              & 174                 & 1092                &  8                  &  5                  & 2013-10-30 08:00:00 & MCI                 & NA                  & NA                 \\\\\n",
       "\t 2013/12/31          &   NA                &  825                & NA                  &   NA                & 1029                & NA                  & US\\_1831           & NA                  &  NA                 &  541                &  8                  & 25                  & 2013-12-31 08:00:00 & NA                  & NA                  & CLT                \\\\\n",
       "\t 2013/8/12           &  644                &  645                & -1                  &  912                &  908                &  4                  & US\\_623            & N524UW              & 300                 & 2153                &  6                  & 45                  & 2013-08-12 06:00:00 & NA                  & NA                  & PHX                \\\\\n",
       "\\end{tabular}\n"
      ],
      "text/markdown": [
       "\n",
       "| date | dep_time | sched_dep_time | dep_delay | arr_time | sched_arr_time | arr_delay | carrier_flight | tailnum | air_time | distance | hour | minute | time_hour | EWR | LGA | JFK |\n",
       "|---|---|---|---|---|---|---|---|---|---|---|---|---|---|---|---|---|\n",
       "| 2013/3/30           | 1957                | 1935                | 22                  | 2226                | 2232                | -6                  | DL_1485             | N933DL              | 132                 |  950                | 19                  | 35                  | 2013-03-30 19:00:00 | NA                  | MCO                 | NA                  |\n",
       "| 2013/1/17           | 1659                | 1700                | -1                  | 1835                | 1839                | -4                  | UA_689              | N816UA              | 132                 |  733                | 17                  |  0                  | 2013-01-17 17:00:00 | NA                  | ORD                 | NA                  |\n",
       "| 2013/10/30          |  800                |  805                | -5                  | 1022                | 1022                |  0                  | EV_4364             | N14180              | 174                 | 1092                |  8                  |  5                  | 2013-10-30 08:00:00 | MCI                 | NA                  | NA                  |\n",
       "| 2013/12/31          |   NA                |  825                | NA                  |   NA                | 1029                | NA                  | US_1831             | NA                  |  NA                 |  541                |  8                  | 25                  | 2013-12-31 08:00:00 | NA                  | NA                  | CLT                 |\n",
       "| 2013/8/12           |  644                |  645                | -1                  |  912                |  908                |  4                  | US_623              | N524UW              | 300                 | 2153                |  6                  | 45                  | 2013-08-12 06:00:00 | NA                  | NA                  | PHX                 |\n",
       "\n"
      ],
      "text/plain": [
       "  date       dep_time sched_dep_time dep_delay arr_time sched_arr_time\n",
       "1 2013/3/30  1957     1935           22        2226     2232          \n",
       "2 2013/1/17  1659     1700           -1        1835     1839          \n",
       "3 2013/10/30  800      805           -5        1022     1022          \n",
       "4 2013/12/31   NA      825           NA          NA     1029          \n",
       "5 2013/8/12   644      645           -1         912      908          \n",
       "  arr_delay carrier_flight tailnum air_time distance hour minute\n",
       "1 -6        DL_1485        N933DL  132       950     19   35    \n",
       "2 -4        UA_689         N816UA  132       733     17    0    \n",
       "3  0        EV_4364        N14180  174      1092      8    5    \n",
       "4 NA        US_1831        NA       NA       541      8   25    \n",
       "5  4        US_623         N524UW  300      2153      6   45    \n",
       "  time_hour           EWR LGA JFK\n",
       "1 2013-03-30 19:00:00 NA  MCO NA \n",
       "2 2013-01-17 17:00:00 NA  ORD NA \n",
       "3 2013-10-30 08:00:00 MCI NA  NA \n",
       "4 2013-12-31 08:00:00 NA  NA  CLT\n",
       "5 2013-08-12 06:00:00 NA  NA  PHX"
      ]
     },
     "metadata": {},
     "output_type": "display_data"
    }
   ],
   "source": [
    "#make flights data messy\n",
    "flights_messy <- df %>% \n",
    "unite(\"date\",year,month,day,sep=\"/\") %>%\n",
    "unite(\"carrier_flight\",carrier,flight,sep=\"_\")%>%\n",
    "pivot_wider(names_from =origin,values_from =dest)\n",
    "\n",
    "#print out and sample flights_messy\n",
    "print(flights_messy)\n",
    "head(flights_messy, 5)\n",
    "tail(flights_messy, 5)\n",
    "sample_n(flights_messy, 5)"
   ]
  },
  {
   "cell_type": "code",
   "execution_count": 5,
   "metadata": {},
   "outputs": [],
   "source": [
    "#write flights_messy to the 'flight_messy.csv' file\n",
    "write.csv(flights_messy,'flights_messy.csv')"
   ]
  },
  {
   "cell_type": "code",
   "execution_count": 6,
   "metadata": {
    "scrolled": false
   },
   "outputs": [
    {
     "name": "stdout",
     "output_type": "stream",
     "text": [
      "# A tibble: 336,776 x 17\n",
      "   date  dep_time sched_dep_time dep_delay arr_time sched_arr_time arr_delay\n",
      "   <chr>    <int>          <int>     <dbl>    <int>          <int>     <dbl>\n",
      " 1 2013…      517            515         2      830            819        11\n",
      " 2 2013…      533            529         4      850            830        20\n",
      " 3 2013…      542            540         2      923            850        33\n",
      " 4 2013…      544            545        -1     1004           1022       -18\n",
      " 5 2013…      554            600        -6      812            837       -25\n",
      " 6 2013…      554            558        -4      740            728        12\n",
      " 7 2013…      555            600        -5      913            854        19\n",
      " 8 2013…      557            600        -3      709            723       -14\n",
      " 9 2013…      557            600        -3      838            846        -8\n",
      "10 2013…      558            600        -2      753            745         8\n",
      "# … with 336,766 more rows, and 10 more variables: carrier_flight <chr>,\n",
      "#   tailnum <chr>, air_time <dbl>, distance <dbl>, hour <dbl>, minute <dbl>,\n",
      "#   time_hour <dttm>, EWR <chr>, LGA <chr>, JFK <chr>\n"
     ]
    },
    {
     "data": {
      "text/html": [
       "<table>\n",
       "<thead><tr><th scope=col>date</th><th scope=col>dep_time</th><th scope=col>sched_dep_time</th><th scope=col>dep_delay</th><th scope=col>arr_time</th><th scope=col>sched_arr_time</th><th scope=col>arr_delay</th><th scope=col>carrier_flight</th><th scope=col>tailnum</th><th scope=col>air_time</th><th scope=col>distance</th><th scope=col>hour</th><th scope=col>minute</th><th scope=col>time_hour</th><th scope=col>EWR</th><th scope=col>LGA</th><th scope=col>JFK</th></tr></thead>\n",
       "<tbody>\n",
       "\t<tr><td>2013/1/1           </td><td>517                </td><td>515                </td><td> 2                 </td><td> 830               </td><td> 819               </td><td> 11                </td><td>UA_1545            </td><td>N14228             </td><td>227                </td><td>1400               </td><td>5                  </td><td>15                 </td><td>2013-01-01 05:00:00</td><td>IAH                </td><td>NA                 </td><td>NA                 </td></tr>\n",
       "\t<tr><td>2013/1/1           </td><td>533                </td><td>529                </td><td> 4                 </td><td> 850               </td><td> 830               </td><td> 20                </td><td>UA_1714            </td><td>N24211             </td><td>227                </td><td>1416               </td><td>5                  </td><td>29                 </td><td>2013-01-01 05:00:00</td><td>NA                 </td><td>IAH                </td><td>NA                 </td></tr>\n",
       "\t<tr><td>2013/1/1           </td><td>542                </td><td>540                </td><td> 2                 </td><td> 923               </td><td> 850               </td><td> 33                </td><td>AA_1141            </td><td>N619AA             </td><td>160                </td><td>1089               </td><td>5                  </td><td>40                 </td><td>2013-01-01 05:00:00</td><td>NA                 </td><td>NA                 </td><td>MIA                </td></tr>\n",
       "\t<tr><td>2013/1/1           </td><td>544                </td><td>545                </td><td>-1                 </td><td>1004               </td><td>1022               </td><td>-18                </td><td>B6_725             </td><td>N804JB             </td><td>183                </td><td>1576               </td><td>5                  </td><td>45                 </td><td>2013-01-01 05:00:00</td><td>NA                 </td><td>NA                 </td><td>BQN                </td></tr>\n",
       "\t<tr><td>2013/1/1           </td><td>554                </td><td>600                </td><td>-6                 </td><td> 812               </td><td> 837               </td><td>-25                </td><td>DL_461             </td><td>N668DN             </td><td>116                </td><td> 762               </td><td>6                  </td><td> 0                 </td><td>2013-01-01 06:00:00</td><td>NA                 </td><td>ATL                </td><td>NA                 </td></tr>\n",
       "</tbody>\n",
       "</table>\n"
      ],
      "text/latex": [
       "\\begin{tabular}{r|lllllllllllllllll}\n",
       " date & dep\\_time & sched\\_dep\\_time & dep\\_delay & arr\\_time & sched\\_arr\\_time & arr\\_delay & carrier\\_flight & tailnum & air\\_time & distance & hour & minute & time\\_hour & EWR & LGA & JFK\\\\\n",
       "\\hline\n",
       "\t 2013/1/1            & 517                 & 515                 &  2                  &  830                &  819                &  11                 & UA\\_1545           & N14228              & 227                 & 1400                & 5                   & 15                  & 2013-01-01 05:00:00 & IAH                 & NA                  & NA                 \\\\\n",
       "\t 2013/1/1            & 533                 & 529                 &  4                  &  850                &  830                &  20                 & UA\\_1714           & N24211              & 227                 & 1416                & 5                   & 29                  & 2013-01-01 05:00:00 & NA                  & IAH                 & NA                 \\\\\n",
       "\t 2013/1/1            & 542                 & 540                 &  2                  &  923                &  850                &  33                 & AA\\_1141           & N619AA              & 160                 & 1089                & 5                   & 40                  & 2013-01-01 05:00:00 & NA                  & NA                  & MIA                \\\\\n",
       "\t 2013/1/1            & 544                 & 545                 & -1                  & 1004                & 1022                & -18                 & B6\\_725            & N804JB              & 183                 & 1576                & 5                   & 45                  & 2013-01-01 05:00:00 & NA                  & NA                  & BQN                \\\\\n",
       "\t 2013/1/1            & 554                 & 600                 & -6                  &  812                &  837                & -25                 & DL\\_461            & N668DN              & 116                 &  762                & 6                   &  0                  & 2013-01-01 06:00:00 & NA                  & ATL                 & NA                 \\\\\n",
       "\\end{tabular}\n"
      ],
      "text/markdown": [
       "\n",
       "| date | dep_time | sched_dep_time | dep_delay | arr_time | sched_arr_time | arr_delay | carrier_flight | tailnum | air_time | distance | hour | minute | time_hour | EWR | LGA | JFK |\n",
       "|---|---|---|---|---|---|---|---|---|---|---|---|---|---|---|---|---|\n",
       "| 2013/1/1            | 517                 | 515                 |  2                  |  830                |  819                |  11                 | UA_1545             | N14228              | 227                 | 1400                | 5                   | 15                  | 2013-01-01 05:00:00 | IAH                 | NA                  | NA                  |\n",
       "| 2013/1/1            | 533                 | 529                 |  4                  |  850                |  830                |  20                 | UA_1714             | N24211              | 227                 | 1416                | 5                   | 29                  | 2013-01-01 05:00:00 | NA                  | IAH                 | NA                  |\n",
       "| 2013/1/1            | 542                 | 540                 |  2                  |  923                |  850                |  33                 | AA_1141             | N619AA              | 160                 | 1089                | 5                   | 40                  | 2013-01-01 05:00:00 | NA                  | NA                  | MIA                 |\n",
       "| 2013/1/1            | 544                 | 545                 | -1                  | 1004                | 1022                | -18                 | B6_725              | N804JB              | 183                 | 1576                | 5                   | 45                  | 2013-01-01 05:00:00 | NA                  | NA                  | BQN                 |\n",
       "| 2013/1/1            | 554                 | 600                 | -6                  |  812                |  837                | -25                 | DL_461              | N668DN              | 116                 |  762                | 6                   |  0                  | 2013-01-01 06:00:00 | NA                  | ATL                 | NA                  |\n",
       "\n"
      ],
      "text/plain": [
       "  date     dep_time sched_dep_time dep_delay arr_time sched_arr_time arr_delay\n",
       "1 2013/1/1 517      515             2         830      819            11      \n",
       "2 2013/1/1 533      529             4         850      830            20      \n",
       "3 2013/1/1 542      540             2         923      850            33      \n",
       "4 2013/1/1 544      545            -1        1004     1022           -18      \n",
       "5 2013/1/1 554      600            -6         812      837           -25      \n",
       "  carrier_flight tailnum air_time distance hour minute time_hour           EWR\n",
       "1 UA_1545        N14228  227      1400     5    15     2013-01-01 05:00:00 IAH\n",
       "2 UA_1714        N24211  227      1416     5    29     2013-01-01 05:00:00 NA \n",
       "3 AA_1141        N619AA  160      1089     5    40     2013-01-01 05:00:00 NA \n",
       "4 B6_725         N804JB  183      1576     5    45     2013-01-01 05:00:00 NA \n",
       "5 DL_461         N668DN  116       762     6     0     2013-01-01 06:00:00 NA \n",
       "  LGA JFK\n",
       "1 NA  NA \n",
       "2 IAH NA \n",
       "3 NA  MIA\n",
       "4 NA  BQN\n",
       "5 ATL NA "
      ]
     },
     "metadata": {},
     "output_type": "display_data"
    },
    {
     "data": {
      "text/html": [
       "<table>\n",
       "<thead><tr><th scope=col>date</th><th scope=col>dep_time</th><th scope=col>sched_dep_time</th><th scope=col>dep_delay</th><th scope=col>arr_time</th><th scope=col>sched_arr_time</th><th scope=col>arr_delay</th><th scope=col>carrier_flight</th><th scope=col>tailnum</th><th scope=col>air_time</th><th scope=col>distance</th><th scope=col>hour</th><th scope=col>minute</th><th scope=col>time_hour</th><th scope=col>EWR</th><th scope=col>LGA</th><th scope=col>JFK</th></tr></thead>\n",
       "<tbody>\n",
       "\t<tr><td>2013/9/30          </td><td>NA                 </td><td>1455               </td><td>NA                 </td><td>NA                 </td><td>1634               </td><td>NA                 </td><td>9E_3393            </td><td>NA                 </td><td>NA                 </td><td>213                </td><td>14                 </td><td>55                 </td><td>2013-09-30 14:00:00</td><td>NA                 </td><td>NA                 </td><td>DCA                </td></tr>\n",
       "\t<tr><td>2013/9/30          </td><td>NA                 </td><td>2200               </td><td>NA                 </td><td>NA                 </td><td>2312               </td><td>NA                 </td><td>9E_3525            </td><td>NA                 </td><td>NA                 </td><td>198                </td><td>22                 </td><td> 0                 </td><td>2013-09-30 22:00:00</td><td>NA                 </td><td>SYR                </td><td>NA                 </td></tr>\n",
       "\t<tr><td>2013/9/30          </td><td>NA                 </td><td>1210               </td><td>NA                 </td><td>NA                 </td><td>1330               </td><td>NA                 </td><td>MQ_3461            </td><td>N535MQ             </td><td>NA                 </td><td>764                </td><td>12                 </td><td>10                 </td><td>2013-09-30 12:00:00</td><td>NA                 </td><td>BNA                </td><td>NA                 </td></tr>\n",
       "\t<tr><td>2013/9/30          </td><td>NA                 </td><td>1159               </td><td>NA                 </td><td>NA                 </td><td>1344               </td><td>NA                 </td><td>MQ_3572            </td><td>N511MQ             </td><td>NA                 </td><td>419                </td><td>11                 </td><td>59                 </td><td>2013-09-30 11:00:00</td><td>NA                 </td><td>CLE                </td><td>NA                 </td></tr>\n",
       "\t<tr><td>2013/9/30          </td><td>NA                 </td><td> 840               </td><td>NA                 </td><td>NA                 </td><td>1020               </td><td>NA                 </td><td>MQ_3531            </td><td>N839MQ             </td><td>NA                 </td><td>431                </td><td> 8                 </td><td>40                 </td><td>2013-09-30 08:00:00</td><td>NA                 </td><td>RDU                </td><td>NA                 </td></tr>\n",
       "</tbody>\n",
       "</table>\n"
      ],
      "text/latex": [
       "\\begin{tabular}{r|lllllllllllllllll}\n",
       " date & dep\\_time & sched\\_dep\\_time & dep\\_delay & arr\\_time & sched\\_arr\\_time & arr\\_delay & carrier\\_flight & tailnum & air\\_time & distance & hour & minute & time\\_hour & EWR & LGA & JFK\\\\\n",
       "\\hline\n",
       "\t 2013/9/30           & NA                  & 1455                & NA                  & NA                  & 1634                & NA                  & 9E\\_3393           & NA                  & NA                  & 213                 & 14                  & 55                  & 2013-09-30 14:00:00 & NA                  & NA                  & DCA                \\\\\n",
       "\t 2013/9/30           & NA                  & 2200                & NA                  & NA                  & 2312                & NA                  & 9E\\_3525           & NA                  & NA                  & 198                 & 22                  &  0                  & 2013-09-30 22:00:00 & NA                  & SYR                 & NA                 \\\\\n",
       "\t 2013/9/30           & NA                  & 1210                & NA                  & NA                  & 1330                & NA                  & MQ\\_3461           & N535MQ              & NA                  & 764                 & 12                  & 10                  & 2013-09-30 12:00:00 & NA                  & BNA                 & NA                 \\\\\n",
       "\t 2013/9/30           & NA                  & 1159                & NA                  & NA                  & 1344                & NA                  & MQ\\_3572           & N511MQ              & NA                  & 419                 & 11                  & 59                  & 2013-09-30 11:00:00 & NA                  & CLE                 & NA                 \\\\\n",
       "\t 2013/9/30           & NA                  &  840                & NA                  & NA                  & 1020                & NA                  & MQ\\_3531           & N839MQ              & NA                  & 431                 &  8                  & 40                  & 2013-09-30 08:00:00 & NA                  & RDU                 & NA                 \\\\\n",
       "\\end{tabular}\n"
      ],
      "text/markdown": [
       "\n",
       "| date | dep_time | sched_dep_time | dep_delay | arr_time | sched_arr_time | arr_delay | carrier_flight | tailnum | air_time | distance | hour | minute | time_hour | EWR | LGA | JFK |\n",
       "|---|---|---|---|---|---|---|---|---|---|---|---|---|---|---|---|---|\n",
       "| 2013/9/30           | NA                  | 1455                | NA                  | NA                  | 1634                | NA                  | 9E_3393             | NA                  | NA                  | 213                 | 14                  | 55                  | 2013-09-30 14:00:00 | NA                  | NA                  | DCA                 |\n",
       "| 2013/9/30           | NA                  | 2200                | NA                  | NA                  | 2312                | NA                  | 9E_3525             | NA                  | NA                  | 198                 | 22                  |  0                  | 2013-09-30 22:00:00 | NA                  | SYR                 | NA                  |\n",
       "| 2013/9/30           | NA                  | 1210                | NA                  | NA                  | 1330                | NA                  | MQ_3461             | N535MQ              | NA                  | 764                 | 12                  | 10                  | 2013-09-30 12:00:00 | NA                  | BNA                 | NA                  |\n",
       "| 2013/9/30           | NA                  | 1159                | NA                  | NA                  | 1344                | NA                  | MQ_3572             | N511MQ              | NA                  | 419                 | 11                  | 59                  | 2013-09-30 11:00:00 | NA                  | CLE                 | NA                  |\n",
       "| 2013/9/30           | NA                  |  840                | NA                  | NA                  | 1020                | NA                  | MQ_3531             | N839MQ              | NA                  | 431                 |  8                  | 40                  | 2013-09-30 08:00:00 | NA                  | RDU                 | NA                  |\n",
       "\n"
      ],
      "text/plain": [
       "  date      dep_time sched_dep_time dep_delay arr_time sched_arr_time arr_delay\n",
       "1 2013/9/30 NA       1455           NA        NA       1634           NA       \n",
       "2 2013/9/30 NA       2200           NA        NA       2312           NA       \n",
       "3 2013/9/30 NA       1210           NA        NA       1330           NA       \n",
       "4 2013/9/30 NA       1159           NA        NA       1344           NA       \n",
       "5 2013/9/30 NA        840           NA        NA       1020           NA       \n",
       "  carrier_flight tailnum air_time distance hour minute time_hour           EWR\n",
       "1 9E_3393        NA      NA       213      14   55     2013-09-30 14:00:00 NA \n",
       "2 9E_3525        NA      NA       198      22    0     2013-09-30 22:00:00 NA \n",
       "3 MQ_3461        N535MQ  NA       764      12   10     2013-09-30 12:00:00 NA \n",
       "4 MQ_3572        N511MQ  NA       419      11   59     2013-09-30 11:00:00 NA \n",
       "5 MQ_3531        N839MQ  NA       431       8   40     2013-09-30 08:00:00 NA \n",
       "  LGA JFK\n",
       "1 NA  DCA\n",
       "2 SYR NA \n",
       "3 BNA NA \n",
       "4 CLE NA \n",
       "5 RDU NA "
      ]
     },
     "metadata": {},
     "output_type": "display_data"
    },
    {
     "data": {
      "text/html": [
       "<table>\n",
       "<thead><tr><th scope=col>date</th><th scope=col>dep_time</th><th scope=col>sched_dep_time</th><th scope=col>dep_delay</th><th scope=col>arr_time</th><th scope=col>sched_arr_time</th><th scope=col>arr_delay</th><th scope=col>carrier_flight</th><th scope=col>tailnum</th><th scope=col>air_time</th><th scope=col>distance</th><th scope=col>hour</th><th scope=col>minute</th><th scope=col>time_hour</th><th scope=col>EWR</th><th scope=col>LGA</th><th scope=col>JFK</th></tr></thead>\n",
       "<tbody>\n",
       "\t<tr><td>2013/3/3           </td><td> 948               </td><td> 950               </td><td> -2                </td><td>1256               </td><td>1254               </td><td>  2                </td><td>B6_1101            </td><td>N661JB             </td><td>160                </td><td>1069               </td><td> 9                 </td><td>50                 </td><td>2013-03-03 09:00:00</td><td>NA                 </td><td>NA                 </td><td>FLL                </td></tr>\n",
       "\t<tr><td>2013/1/11          </td><td> 855               </td><td> 905               </td><td>-10                </td><td>1054               </td><td>1115               </td><td>-21                </td><td>MQ_4478            </td><td>N856MQ             </td><td> 84                </td><td> 502               </td><td> 9                 </td><td> 5                 </td><td>2013-01-11 09:00:00</td><td>NA                 </td><td>DTW                </td><td>NA                 </td></tr>\n",
       "\t<tr><td>2013/2/27          </td><td>1932               </td><td>1903               </td><td> 29                </td><td>2045               </td><td>2022               </td><td> 23                </td><td>EV_4131            </td><td>N18101             </td><td> 54                </td><td> 277               </td><td>19                 </td><td> 3                 </td><td>2013-02-27 19:00:00</td><td>RIC                </td><td>NA                 </td><td>NA                 </td></tr>\n",
       "\t<tr><td>2013/1/12          </td><td> 556               </td><td> 600               </td><td> -4                </td><td> 658               </td><td> 724               </td><td>-26                </td><td>EV_6012            </td><td>N14977             </td><td> 43                </td><td> 229               </td><td> 6                 </td><td> 0                 </td><td>2013-01-12 06:00:00</td><td>NA                 </td><td>IAD                </td><td>NA                 </td></tr>\n",
       "\t<tr><td>2013/5/30          </td><td> 556               </td><td> 602               </td><td> -6                </td><td> 657               </td><td> 710               </td><td>-13                </td><td>B6_1170            </td><td>N178JB             </td><td> 43                </td><td> 200               </td><td> 6                 </td><td> 2                 </td><td>2013-05-30 06:00:00</td><td>BOS                </td><td>NA                 </td><td>NA                 </td></tr>\n",
       "</tbody>\n",
       "</table>\n"
      ],
      "text/latex": [
       "\\begin{tabular}{r|lllllllllllllllll}\n",
       " date & dep\\_time & sched\\_dep\\_time & dep\\_delay & arr\\_time & sched\\_arr\\_time & arr\\_delay & carrier\\_flight & tailnum & air\\_time & distance & hour & minute & time\\_hour & EWR & LGA & JFK\\\\\n",
       "\\hline\n",
       "\t 2013/3/3            &  948                &  950                &  -2                 & 1256                & 1254                &   2                 & B6\\_1101           & N661JB              & 160                 & 1069                &  9                  & 50                  & 2013-03-03 09:00:00 & NA                  & NA                  & FLL                \\\\\n",
       "\t 2013/1/11           &  855                &  905                & -10                 & 1054                & 1115                & -21                 & MQ\\_4478           & N856MQ              &  84                 &  502                &  9                  &  5                  & 2013-01-11 09:00:00 & NA                  & DTW                 & NA                 \\\\\n",
       "\t 2013/2/27           & 1932                & 1903                &  29                 & 2045                & 2022                &  23                 & EV\\_4131           & N18101              &  54                 &  277                & 19                  &  3                  & 2013-02-27 19:00:00 & RIC                 & NA                  & NA                 \\\\\n",
       "\t 2013/1/12           &  556                &  600                &  -4                 &  658                &  724                & -26                 & EV\\_6012           & N14977              &  43                 &  229                &  6                  &  0                  & 2013-01-12 06:00:00 & NA                  & IAD                 & NA                 \\\\\n",
       "\t 2013/5/30           &  556                &  602                &  -6                 &  657                &  710                & -13                 & B6\\_1170           & N178JB              &  43                 &  200                &  6                  &  2                  & 2013-05-30 06:00:00 & BOS                 & NA                  & NA                 \\\\\n",
       "\\end{tabular}\n"
      ],
      "text/markdown": [
       "\n",
       "| date | dep_time | sched_dep_time | dep_delay | arr_time | sched_arr_time | arr_delay | carrier_flight | tailnum | air_time | distance | hour | minute | time_hour | EWR | LGA | JFK |\n",
       "|---|---|---|---|---|---|---|---|---|---|---|---|---|---|---|---|---|\n",
       "| 2013/3/3            |  948                |  950                |  -2                 | 1256                | 1254                |   2                 | B6_1101             | N661JB              | 160                 | 1069                |  9                  | 50                  | 2013-03-03 09:00:00 | NA                  | NA                  | FLL                 |\n",
       "| 2013/1/11           |  855                |  905                | -10                 | 1054                | 1115                | -21                 | MQ_4478             | N856MQ              |  84                 |  502                |  9                  |  5                  | 2013-01-11 09:00:00 | NA                  | DTW                 | NA                  |\n",
       "| 2013/2/27           | 1932                | 1903                |  29                 | 2045                | 2022                |  23                 | EV_4131             | N18101              |  54                 |  277                | 19                  |  3                  | 2013-02-27 19:00:00 | RIC                 | NA                  | NA                  |\n",
       "| 2013/1/12           |  556                |  600                |  -4                 |  658                |  724                | -26                 | EV_6012             | N14977              |  43                 |  229                |  6                  |  0                  | 2013-01-12 06:00:00 | NA                  | IAD                 | NA                  |\n",
       "| 2013/5/30           |  556                |  602                |  -6                 |  657                |  710                | -13                 | B6_1170             | N178JB              |  43                 |  200                |  6                  |  2                  | 2013-05-30 06:00:00 | BOS                 | NA                  | NA                  |\n",
       "\n"
      ],
      "text/plain": [
       "  date      dep_time sched_dep_time dep_delay arr_time sched_arr_time arr_delay\n",
       "1 2013/3/3   948      950            -2       1256     1254             2      \n",
       "2 2013/1/11  855      905           -10       1054     1115           -21      \n",
       "3 2013/2/27 1932     1903            29       2045     2022            23      \n",
       "4 2013/1/12  556      600            -4        658      724           -26      \n",
       "5 2013/5/30  556      602            -6        657      710           -13      \n",
       "  carrier_flight tailnum air_time distance hour minute time_hour           EWR\n",
       "1 B6_1101        N661JB  160      1069      9   50     2013-03-03 09:00:00 NA \n",
       "2 MQ_4478        N856MQ   84       502      9    5     2013-01-11 09:00:00 NA \n",
       "3 EV_4131        N18101   54       277     19    3     2013-02-27 19:00:00 RIC\n",
       "4 EV_6012        N14977   43       229      6    0     2013-01-12 06:00:00 NA \n",
       "5 B6_1170        N178JB   43       200      6    2     2013-05-30 06:00:00 BOS\n",
       "  LGA JFK\n",
       "1 NA  FLL\n",
       "2 DTW NA \n",
       "3 NA  NA \n",
       "4 IAD NA \n",
       "5 NA  NA "
      ]
     },
     "metadata": {},
     "output_type": "display_data"
    }
   ],
   "source": [
    "print(flights_messy)\n",
    "head(flights_messy, 5)\n",
    "tail(flights_messy, 5)\n",
    "sample_n(flights_messy, 5)"
   ]
  },
  {
   "cell_type": "markdown",
   "metadata": {},
   "source": [
    "### Q2 (6 points): Read \"flights_messy.csv\" and make the data tidy."
   ]
  },
  {
   "cell_type": "code",
   "execution_count": 2,
   "metadata": {},
   "outputs": [
    {
     "name": "stderr",
     "output_type": "stream",
     "text": [
      "Warning message:\n",
      "“Missing column names filled in: 'X1' [1]”Parsed with column specification:\n",
      "cols(\n",
      "  X1 = col_double(),\n",
      "  date = col_character(),\n",
      "  dep_time = col_double(),\n",
      "  sched_dep_time = col_double(),\n",
      "  dep_delay = col_double(),\n",
      "  arr_time = col_double(),\n",
      "  sched_arr_time = col_double(),\n",
      "  arr_delay = col_double(),\n",
      "  carrier_flight = col_character(),\n",
      "  tailnum = col_character(),\n",
      "  air_time = col_double(),\n",
      "  distance = col_double(),\n",
      "  hour = col_double(),\n",
      "  minute = col_double(),\n",
      "  time_hour = col_datetime(format = \"\"),\n",
      "  EWR = col_character(),\n",
      "  LGA = col_character(),\n",
      "  JFK = col_character()\n",
      ")\n",
      "Parsed with column specification:\n",
      "cols(\n",
      "  carrier = col_character(),\n",
      "  tailnum = col_character(),\n",
      "  origin = col_character(),\n",
      "  dest = col_character()\n",
      ")\n"
     ]
    }
   ],
   "source": [
    "#read 'flights_messy.csv' and make the data tidy\n",
    "flights_tidy <- read_csv('flights_messy.csv')%>%\n",
    "separate(date,into=c(\"year\",\"month\",\"day\"),sep=\"/\",convert=TRUE)%>%\n",
    "separate(carrier_flight,into=c(\"carrier\",\"flight\"),sep=\"_\", convert=TRUE)%>%\n",
    "pivot_longer(c(`EWR`, `LGA`,`JFK`),\n",
    "                         names_to = \"origin\",\n",
    "                         values_to = \"dest\",\n",
    "                         values_drop_na = TRUE)%>%\n",
    "type_convert()%>%\n",
    "select(-X1)\n",
    "\n",
    "#change column types\n",
    "flights_tidy$dep_time<-as.integer(flights_tidy$dep_time)\n",
    "flights_tidy$sched_dep_time<-as.integer(flights_tidy$sched_dep_time)\n",
    "flights_tidy$dep_delay<-as.numeric(flights_tidy$dep_delay)\n",
    "flights_tidy$arr_time<-as.integer(flights_tidy$arr_time)\n",
    "flights_tidy$sched_arr_time<-as.integer(flights_tidy$sched_arr_time)"
   ]
  },
  {
   "cell_type": "code",
   "execution_count": 3,
   "metadata": {},
   "outputs": [
    {
     "name": "stdout",
     "output_type": "stream",
     "text": [
      "# A tibble: 336,776 x 19\n",
      "    year month   day dep_time sched_dep_time dep_delay arr_time sched_arr_time\n",
      "   <int> <int> <int>    <int>          <int>     <dbl>    <int>          <int>\n",
      " 1  2013     1     1      517            515         2      830            819\n",
      " 2  2013     1     1      533            529         4      850            830\n",
      " 3  2013     1     1      542            540         2      923            850\n",
      " 4  2013     1     1      544            545        -1     1004           1022\n",
      " 5  2013     1     1      554            600        -6      812            837\n",
      " 6  2013     1     1      554            558        -4      740            728\n",
      " 7  2013     1     1      555            600        -5      913            854\n",
      " 8  2013     1     1      557            600        -3      709            723\n",
      " 9  2013     1     1      557            600        -3      838            846\n",
      "10  2013     1     1      558            600        -2      753            745\n",
      "# … with 336,766 more rows, and 11 more variables: arr_delay <dbl>,\n",
      "#   carrier <chr>, flight <int>, tailnum <chr>, air_time <dbl>, distance <dbl>,\n",
      "#   hour <dbl>, minute <dbl>, time_hour <dttm>, origin <chr>, dest <chr>\n"
     ]
    },
    {
     "data": {
      "text/html": [
       "<table>\n",
       "<thead><tr><th scope=col>year</th><th scope=col>month</th><th scope=col>day</th><th scope=col>dep_time</th><th scope=col>sched_dep_time</th><th scope=col>dep_delay</th><th scope=col>arr_time</th><th scope=col>sched_arr_time</th><th scope=col>arr_delay</th><th scope=col>carrier</th><th scope=col>flight</th><th scope=col>tailnum</th><th scope=col>air_time</th><th scope=col>distance</th><th scope=col>hour</th><th scope=col>minute</th><th scope=col>time_hour</th><th scope=col>origin</th><th scope=col>dest</th></tr></thead>\n",
       "<tbody>\n",
       "\t<tr><td>2013               </td><td>1                  </td><td>1                  </td><td>517                </td><td>515                </td><td> 2                 </td><td> 830               </td><td> 819               </td><td> 11                </td><td>UA                 </td><td>1545               </td><td>N14228             </td><td>227                </td><td>1400               </td><td>5                  </td><td>15                 </td><td>2013-01-01 05:00:00</td><td>EWR                </td><td>IAH                </td></tr>\n",
       "\t<tr><td>2013               </td><td>1                  </td><td>1                  </td><td>533                </td><td>529                </td><td> 4                 </td><td> 850               </td><td> 830               </td><td> 20                </td><td>UA                 </td><td>1714               </td><td>N24211             </td><td>227                </td><td>1416               </td><td>5                  </td><td>29                 </td><td>2013-01-01 05:00:00</td><td>LGA                </td><td>IAH                </td></tr>\n",
       "\t<tr><td>2013               </td><td>1                  </td><td>1                  </td><td>542                </td><td>540                </td><td> 2                 </td><td> 923               </td><td> 850               </td><td> 33                </td><td>AA                 </td><td>1141               </td><td>N619AA             </td><td>160                </td><td>1089               </td><td>5                  </td><td>40                 </td><td>2013-01-01 05:00:00</td><td>JFK                </td><td>MIA                </td></tr>\n",
       "\t<tr><td>2013               </td><td>1                  </td><td>1                  </td><td>544                </td><td>545                </td><td>-1                 </td><td>1004               </td><td>1022               </td><td>-18                </td><td>B6                 </td><td> 725               </td><td>N804JB             </td><td>183                </td><td>1576               </td><td>5                  </td><td>45                 </td><td>2013-01-01 05:00:00</td><td>JFK                </td><td>BQN                </td></tr>\n",
       "\t<tr><td>2013               </td><td>1                  </td><td>1                  </td><td>554                </td><td>600                </td><td>-6                 </td><td> 812               </td><td> 837               </td><td>-25                </td><td>DL                 </td><td> 461               </td><td>N668DN             </td><td>116                </td><td> 762               </td><td>6                  </td><td> 0                 </td><td>2013-01-01 06:00:00</td><td>LGA                </td><td>ATL                </td></tr>\n",
       "</tbody>\n",
       "</table>\n"
      ],
      "text/latex": [
       "\\begin{tabular}{r|lllllllllllllllllll}\n",
       " year & month & day & dep\\_time & sched\\_dep\\_time & dep\\_delay & arr\\_time & sched\\_arr\\_time & arr\\_delay & carrier & flight & tailnum & air\\_time & distance & hour & minute & time\\_hour & origin & dest\\\\\n",
       "\\hline\n",
       "\t 2013                & 1                   & 1                   & 517                 & 515                 &  2                  &  830                &  819                &  11                 & UA                  & 1545                & N14228              & 227                 & 1400                & 5                   & 15                  & 2013-01-01 05:00:00 & EWR                 & IAH                \\\\\n",
       "\t 2013                & 1                   & 1                   & 533                 & 529                 &  4                  &  850                &  830                &  20                 & UA                  & 1714                & N24211              & 227                 & 1416                & 5                   & 29                  & 2013-01-01 05:00:00 & LGA                 & IAH                \\\\\n",
       "\t 2013                & 1                   & 1                   & 542                 & 540                 &  2                  &  923                &  850                &  33                 & AA                  & 1141                & N619AA              & 160                 & 1089                & 5                   & 40                  & 2013-01-01 05:00:00 & JFK                 & MIA                \\\\\n",
       "\t 2013                & 1                   & 1                   & 544                 & 545                 & -1                  & 1004                & 1022                & -18                 & B6                  &  725                & N804JB              & 183                 & 1576                & 5                   & 45                  & 2013-01-01 05:00:00 & JFK                 & BQN                \\\\\n",
       "\t 2013                & 1                   & 1                   & 554                 & 600                 & -6                  &  812                &  837                & -25                 & DL                  &  461                & N668DN              & 116                 &  762                & 6                   &  0                  & 2013-01-01 06:00:00 & LGA                 & ATL                \\\\\n",
       "\\end{tabular}\n"
      ],
      "text/markdown": [
       "\n",
       "| year | month | day | dep_time | sched_dep_time | dep_delay | arr_time | sched_arr_time | arr_delay | carrier | flight | tailnum | air_time | distance | hour | minute | time_hour | origin | dest |\n",
       "|---|---|---|---|---|---|---|---|---|---|---|---|---|---|---|---|---|---|---|\n",
       "| 2013                | 1                   | 1                   | 517                 | 515                 |  2                  |  830                |  819                |  11                 | UA                  | 1545                | N14228              | 227                 | 1400                | 5                   | 15                  | 2013-01-01 05:00:00 | EWR                 | IAH                 |\n",
       "| 2013                | 1                   | 1                   | 533                 | 529                 |  4                  |  850                |  830                |  20                 | UA                  | 1714                | N24211              | 227                 | 1416                | 5                   | 29                  | 2013-01-01 05:00:00 | LGA                 | IAH                 |\n",
       "| 2013                | 1                   | 1                   | 542                 | 540                 |  2                  |  923                |  850                |  33                 | AA                  | 1141                | N619AA              | 160                 | 1089                | 5                   | 40                  | 2013-01-01 05:00:00 | JFK                 | MIA                 |\n",
       "| 2013                | 1                   | 1                   | 544                 | 545                 | -1                  | 1004                | 1022                | -18                 | B6                  |  725                | N804JB              | 183                 | 1576                | 5                   | 45                  | 2013-01-01 05:00:00 | JFK                 | BQN                 |\n",
       "| 2013                | 1                   | 1                   | 554                 | 600                 | -6                  |  812                |  837                | -25                 | DL                  |  461                | N668DN              | 116                 |  762                | 6                   |  0                  | 2013-01-01 06:00:00 | LGA                 | ATL                 |\n",
       "\n"
      ],
      "text/plain": [
       "  year month day dep_time sched_dep_time dep_delay arr_time sched_arr_time\n",
       "1 2013 1     1   517      515             2         830      819          \n",
       "2 2013 1     1   533      529             4         850      830          \n",
       "3 2013 1     1   542      540             2         923      850          \n",
       "4 2013 1     1   544      545            -1        1004     1022          \n",
       "5 2013 1     1   554      600            -6         812      837          \n",
       "  arr_delay carrier flight tailnum air_time distance hour minute\n",
       "1  11       UA      1545   N14228  227      1400     5    15    \n",
       "2  20       UA      1714   N24211  227      1416     5    29    \n",
       "3  33       AA      1141   N619AA  160      1089     5    40    \n",
       "4 -18       B6       725   N804JB  183      1576     5    45    \n",
       "5 -25       DL       461   N668DN  116       762     6     0    \n",
       "  time_hour           origin dest\n",
       "1 2013-01-01 05:00:00 EWR    IAH \n",
       "2 2013-01-01 05:00:00 LGA    IAH \n",
       "3 2013-01-01 05:00:00 JFK    MIA \n",
       "4 2013-01-01 05:00:00 JFK    BQN \n",
       "5 2013-01-01 06:00:00 LGA    ATL "
      ]
     },
     "metadata": {},
     "output_type": "display_data"
    },
    {
     "data": {
      "text/html": [
       "<table>\n",
       "<thead><tr><th scope=col>year</th><th scope=col>month</th><th scope=col>day</th><th scope=col>dep_time</th><th scope=col>sched_dep_time</th><th scope=col>dep_delay</th><th scope=col>arr_time</th><th scope=col>sched_arr_time</th><th scope=col>arr_delay</th><th scope=col>carrier</th><th scope=col>flight</th><th scope=col>tailnum</th><th scope=col>air_time</th><th scope=col>distance</th><th scope=col>hour</th><th scope=col>minute</th><th scope=col>time_hour</th><th scope=col>origin</th><th scope=col>dest</th></tr></thead>\n",
       "<tbody>\n",
       "\t<tr><td>2013               </td><td>9                  </td><td>30                 </td><td>NA                 </td><td>1455               </td><td>NA                 </td><td>NA                 </td><td>1634               </td><td>NA                 </td><td>9E                 </td><td>3393               </td><td>NA                 </td><td>NA                 </td><td>213                </td><td>14                 </td><td>55                 </td><td>2013-09-30 14:00:00</td><td>JFK                </td><td>DCA                </td></tr>\n",
       "\t<tr><td>2013               </td><td>9                  </td><td>30                 </td><td>NA                 </td><td>2200               </td><td>NA                 </td><td>NA                 </td><td>2312               </td><td>NA                 </td><td>9E                 </td><td>3525               </td><td>NA                 </td><td>NA                 </td><td>198                </td><td>22                 </td><td> 0                 </td><td>2013-09-30 22:00:00</td><td>LGA                </td><td>SYR                </td></tr>\n",
       "\t<tr><td>2013               </td><td>9                  </td><td>30                 </td><td>NA                 </td><td>1210               </td><td>NA                 </td><td>NA                 </td><td>1330               </td><td>NA                 </td><td>MQ                 </td><td>3461               </td><td>N535MQ             </td><td>NA                 </td><td>764                </td><td>12                 </td><td>10                 </td><td>2013-09-30 12:00:00</td><td>LGA                </td><td>BNA                </td></tr>\n",
       "\t<tr><td>2013               </td><td>9                  </td><td>30                 </td><td>NA                 </td><td>1159               </td><td>NA                 </td><td>NA                 </td><td>1344               </td><td>NA                 </td><td>MQ                 </td><td>3572               </td><td>N511MQ             </td><td>NA                 </td><td>419                </td><td>11                 </td><td>59                 </td><td>2013-09-30 11:00:00</td><td>LGA                </td><td>CLE                </td></tr>\n",
       "\t<tr><td>2013               </td><td>9                  </td><td>30                 </td><td>NA                 </td><td> 840               </td><td>NA                 </td><td>NA                 </td><td>1020               </td><td>NA                 </td><td>MQ                 </td><td>3531               </td><td>N839MQ             </td><td>NA                 </td><td>431                </td><td> 8                 </td><td>40                 </td><td>2013-09-30 08:00:00</td><td>LGA                </td><td>RDU                </td></tr>\n",
       "</tbody>\n",
       "</table>\n"
      ],
      "text/latex": [
       "\\begin{tabular}{r|lllllllllllllllllll}\n",
       " year & month & day & dep\\_time & sched\\_dep\\_time & dep\\_delay & arr\\_time & sched\\_arr\\_time & arr\\_delay & carrier & flight & tailnum & air\\_time & distance & hour & minute & time\\_hour & origin & dest\\\\\n",
       "\\hline\n",
       "\t 2013                & 9                   & 30                  & NA                  & 1455                & NA                  & NA                  & 1634                & NA                  & 9E                  & 3393                & NA                  & NA                  & 213                 & 14                  & 55                  & 2013-09-30 14:00:00 & JFK                 & DCA                \\\\\n",
       "\t 2013                & 9                   & 30                  & NA                  & 2200                & NA                  & NA                  & 2312                & NA                  & 9E                  & 3525                & NA                  & NA                  & 198                 & 22                  &  0                  & 2013-09-30 22:00:00 & LGA                 & SYR                \\\\\n",
       "\t 2013                & 9                   & 30                  & NA                  & 1210                & NA                  & NA                  & 1330                & NA                  & MQ                  & 3461                & N535MQ              & NA                  & 764                 & 12                  & 10                  & 2013-09-30 12:00:00 & LGA                 & BNA                \\\\\n",
       "\t 2013                & 9                   & 30                  & NA                  & 1159                & NA                  & NA                  & 1344                & NA                  & MQ                  & 3572                & N511MQ              & NA                  & 419                 & 11                  & 59                  & 2013-09-30 11:00:00 & LGA                 & CLE                \\\\\n",
       "\t 2013                & 9                   & 30                  & NA                  &  840                & NA                  & NA                  & 1020                & NA                  & MQ                  & 3531                & N839MQ              & NA                  & 431                 &  8                  & 40                  & 2013-09-30 08:00:00 & LGA                 & RDU                \\\\\n",
       "\\end{tabular}\n"
      ],
      "text/markdown": [
       "\n",
       "| year | month | day | dep_time | sched_dep_time | dep_delay | arr_time | sched_arr_time | arr_delay | carrier | flight | tailnum | air_time | distance | hour | minute | time_hour | origin | dest |\n",
       "|---|---|---|---|---|---|---|---|---|---|---|---|---|---|---|---|---|---|---|\n",
       "| 2013                | 9                   | 30                  | NA                  | 1455                | NA                  | NA                  | 1634                | NA                  | 9E                  | 3393                | NA                  | NA                  | 213                 | 14                  | 55                  | 2013-09-30 14:00:00 | JFK                 | DCA                 |\n",
       "| 2013                | 9                   | 30                  | NA                  | 2200                | NA                  | NA                  | 2312                | NA                  | 9E                  | 3525                | NA                  | NA                  | 198                 | 22                  |  0                  | 2013-09-30 22:00:00 | LGA                 | SYR                 |\n",
       "| 2013                | 9                   | 30                  | NA                  | 1210                | NA                  | NA                  | 1330                | NA                  | MQ                  | 3461                | N535MQ              | NA                  | 764                 | 12                  | 10                  | 2013-09-30 12:00:00 | LGA                 | BNA                 |\n",
       "| 2013                | 9                   | 30                  | NA                  | 1159                | NA                  | NA                  | 1344                | NA                  | MQ                  | 3572                | N511MQ              | NA                  | 419                 | 11                  | 59                  | 2013-09-30 11:00:00 | LGA                 | CLE                 |\n",
       "| 2013                | 9                   | 30                  | NA                  |  840                | NA                  | NA                  | 1020                | NA                  | MQ                  | 3531                | N839MQ              | NA                  | 431                 |  8                  | 40                  | 2013-09-30 08:00:00 | LGA                 | RDU                 |\n",
       "\n"
      ],
      "text/plain": [
       "  year month day dep_time sched_dep_time dep_delay arr_time sched_arr_time\n",
       "1 2013 9     30  NA       1455           NA        NA       1634          \n",
       "2 2013 9     30  NA       2200           NA        NA       2312          \n",
       "3 2013 9     30  NA       1210           NA        NA       1330          \n",
       "4 2013 9     30  NA       1159           NA        NA       1344          \n",
       "5 2013 9     30  NA        840           NA        NA       1020          \n",
       "  arr_delay carrier flight tailnum air_time distance hour minute\n",
       "1 NA        9E      3393   NA      NA       213      14   55    \n",
       "2 NA        9E      3525   NA      NA       198      22    0    \n",
       "3 NA        MQ      3461   N535MQ  NA       764      12   10    \n",
       "4 NA        MQ      3572   N511MQ  NA       419      11   59    \n",
       "5 NA        MQ      3531   N839MQ  NA       431       8   40    \n",
       "  time_hour           origin dest\n",
       "1 2013-09-30 14:00:00 JFK    DCA \n",
       "2 2013-09-30 22:00:00 LGA    SYR \n",
       "3 2013-09-30 12:00:00 LGA    BNA \n",
       "4 2013-09-30 11:00:00 LGA    CLE \n",
       "5 2013-09-30 08:00:00 LGA    RDU "
      ]
     },
     "metadata": {},
     "output_type": "display_data"
    },
    {
     "data": {
      "text/html": [
       "<table>\n",
       "<thead><tr><th scope=col>year</th><th scope=col>month</th><th scope=col>day</th><th scope=col>dep_time</th><th scope=col>sched_dep_time</th><th scope=col>dep_delay</th><th scope=col>arr_time</th><th scope=col>sched_arr_time</th><th scope=col>arr_delay</th><th scope=col>carrier</th><th scope=col>flight</th><th scope=col>tailnum</th><th scope=col>air_time</th><th scope=col>distance</th><th scope=col>hour</th><th scope=col>minute</th><th scope=col>time_hour</th><th scope=col>origin</th><th scope=col>dest</th></tr></thead>\n",
       "<tbody>\n",
       "\t<tr><td>2013               </td><td> 7                 </td><td> 5                 </td><td> 555               </td><td> 600               </td><td> -5                </td><td> 724               </td><td> 750               </td><td>-26                </td><td>DL                 </td><td> 731               </td><td>N383DN             </td><td> 74                </td><td> 502               </td><td> 6                 </td><td> 0                 </td><td>2013-07-05 06:00:00</td><td>LGA                </td><td>DTW                </td></tr>\n",
       "\t<tr><td>2013               </td><td> 9                 </td><td>27                 </td><td>1527               </td><td>1528               </td><td> -1                </td><td>1634               </td><td>1659               </td><td>-25                </td><td>EV                 </td><td>4502               </td><td>N14573             </td><td>102                </td><td> 748               </td><td>15                 </td><td>28                 </td><td>2013-09-27 15:00:00</td><td>EWR                </td><td>BNA                </td></tr>\n",
       "\t<tr><td>2013               </td><td> 3                 </td><td>27                 </td><td>2255               </td><td>2115               </td><td>100                </td><td>2348               </td><td>2214               </td><td> 94                </td><td>EV                 </td><td>4404               </td><td>N15983             </td><td> 32                </td><td> 160               </td><td>21                 </td><td>15                 </td><td>2013-03-27 21:00:00</td><td>EWR                </td><td>PVD                </td></tr>\n",
       "\t<tr><td>2013               </td><td>10                 </td><td> 8                 </td><td>1637               </td><td>1645               </td><td> -8                </td><td>1854               </td><td>1920               </td><td>-26                </td><td>DL                 </td><td> 884               </td><td>N325NB             </td><td>208                </td><td>1620               </td><td>16                 </td><td>45                 </td><td>2013-10-08 16:00:00</td><td>LGA                </td><td>DEN                </td></tr>\n",
       "\t<tr><td>2013               </td><td> 3                 </td><td>27                 </td><td> 903               </td><td> 850               </td><td> 13                </td><td>1044               </td><td>1035               </td><td>  9                </td><td>MQ                 </td><td>4558               </td><td>N725MQ             </td><td> 64                </td><td> 419               </td><td> 8                 </td><td>50                 </td><td>2013-03-27 08:00:00</td><td>LGA                </td><td>CLE                </td></tr>\n",
       "</tbody>\n",
       "</table>\n"
      ],
      "text/latex": [
       "\\begin{tabular}{r|lllllllllllllllllll}\n",
       " year & month & day & dep\\_time & sched\\_dep\\_time & dep\\_delay & arr\\_time & sched\\_arr\\_time & arr\\_delay & carrier & flight & tailnum & air\\_time & distance & hour & minute & time\\_hour & origin & dest\\\\\n",
       "\\hline\n",
       "\t 2013                &  7                  &  5                  &  555                &  600                &  -5                 &  724                &  750                & -26                 & DL                  &  731                & N383DN              &  74                 &  502                &  6                  &  0                  & 2013-07-05 06:00:00 & LGA                 & DTW                \\\\\n",
       "\t 2013                &  9                  & 27                  & 1527                & 1528                &  -1                 & 1634                & 1659                & -25                 & EV                  & 4502                & N14573              & 102                 &  748                & 15                  & 28                  & 2013-09-27 15:00:00 & EWR                 & BNA                \\\\\n",
       "\t 2013                &  3                  & 27                  & 2255                & 2115                & 100                 & 2348                & 2214                &  94                 & EV                  & 4404                & N15983              &  32                 &  160                & 21                  & 15                  & 2013-03-27 21:00:00 & EWR                 & PVD                \\\\\n",
       "\t 2013                & 10                  &  8                  & 1637                & 1645                &  -8                 & 1854                & 1920                & -26                 & DL                  &  884                & N325NB              & 208                 & 1620                & 16                  & 45                  & 2013-10-08 16:00:00 & LGA                 & DEN                \\\\\n",
       "\t 2013                &  3                  & 27                  &  903                &  850                &  13                 & 1044                & 1035                &   9                 & MQ                  & 4558                & N725MQ              &  64                 &  419                &  8                  & 50                  & 2013-03-27 08:00:00 & LGA                 & CLE                \\\\\n",
       "\\end{tabular}\n"
      ],
      "text/markdown": [
       "\n",
       "| year | month | day | dep_time | sched_dep_time | dep_delay | arr_time | sched_arr_time | arr_delay | carrier | flight | tailnum | air_time | distance | hour | minute | time_hour | origin | dest |\n",
       "|---|---|---|---|---|---|---|---|---|---|---|---|---|---|---|---|---|---|---|\n",
       "| 2013                |  7                  |  5                  |  555                |  600                |  -5                 |  724                |  750                | -26                 | DL                  |  731                | N383DN              |  74                 |  502                |  6                  |  0                  | 2013-07-05 06:00:00 | LGA                 | DTW                 |\n",
       "| 2013                |  9                  | 27                  | 1527                | 1528                |  -1                 | 1634                | 1659                | -25                 | EV                  | 4502                | N14573              | 102                 |  748                | 15                  | 28                  | 2013-09-27 15:00:00 | EWR                 | BNA                 |\n",
       "| 2013                |  3                  | 27                  | 2255                | 2115                | 100                 | 2348                | 2214                |  94                 | EV                  | 4404                | N15983              |  32                 |  160                | 21                  | 15                  | 2013-03-27 21:00:00 | EWR                 | PVD                 |\n",
       "| 2013                | 10                  |  8                  | 1637                | 1645                |  -8                 | 1854                | 1920                | -26                 | DL                  |  884                | N325NB              | 208                 | 1620                | 16                  | 45                  | 2013-10-08 16:00:00 | LGA                 | DEN                 |\n",
       "| 2013                |  3                  | 27                  |  903                |  850                |  13                 | 1044                | 1035                |   9                 | MQ                  | 4558                | N725MQ              |  64                 |  419                |  8                  | 50                  | 2013-03-27 08:00:00 | LGA                 | CLE                 |\n",
       "\n"
      ],
      "text/plain": [
       "  year month day dep_time sched_dep_time dep_delay arr_time sched_arr_time\n",
       "1 2013  7     5   555      600            -5        724      750          \n",
       "2 2013  9    27  1527     1528            -1       1634     1659          \n",
       "3 2013  3    27  2255     2115           100       2348     2214          \n",
       "4 2013 10     8  1637     1645            -8       1854     1920          \n",
       "5 2013  3    27   903      850            13       1044     1035          \n",
       "  arr_delay carrier flight tailnum air_time distance hour minute\n",
       "1 -26       DL       731   N383DN   74       502      6    0    \n",
       "2 -25       EV      4502   N14573  102       748     15   28    \n",
       "3  94       EV      4404   N15983   32       160     21   15    \n",
       "4 -26       DL       884   N325NB  208      1620     16   45    \n",
       "5   9       MQ      4558   N725MQ   64       419      8   50    \n",
       "  time_hour           origin dest\n",
       "1 2013-07-05 06:00:00 LGA    DTW \n",
       "2 2013-09-27 15:00:00 EWR    BNA \n",
       "3 2013-03-27 21:00:00 EWR    PVD \n",
       "4 2013-10-08 16:00:00 LGA    DEN \n",
       "5 2013-03-27 08:00:00 LGA    CLE "
      ]
     },
     "metadata": {},
     "output_type": "display_data"
    }
   ],
   "source": [
    "#print out and sample flights_tidy\n",
    "print(flights_tidy)\n",
    "head(flights_tidy, 5)\n",
    "tail(flights_tidy, 5)\n",
    "sample_n(flights_tidy, 5)"
   ]
  },
  {
   "cell_type": "code",
   "execution_count": null,
   "metadata": {},
   "outputs": [],
   "source": []
  }
 ],
 "metadata": {
  "kernelspec": {
   "display_name": "R",
   "language": "R",
   "name": "ir"
  },
  "language_info": {
   "codemirror_mode": "r",
   "file_extension": ".r",
   "mimetype": "text/x-r-source",
   "name": "R",
   "pygments_lexer": "r",
   "version": "3.6.1"
  }
 },
 "nbformat": 4,
 "nbformat_minor": 2
}
